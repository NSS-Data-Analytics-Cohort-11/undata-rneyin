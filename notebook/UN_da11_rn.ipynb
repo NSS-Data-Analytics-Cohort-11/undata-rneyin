{
 "cells": [
  {
   "cell_type": "code",
   "execution_count": 1,
   "id": "50818b6f-08c5-469c-86b3-1dc174acad0a",
   "metadata": {},
   "outputs": [],
   "source": [
    "import pandas as pd\n",
    "import numpy as np\n",
    "import matplotlib.pyplot as plt\n",
    "import seaborn as sns"
   ]
  },
  {
   "cell_type": "code",
   "execution_count": 2,
   "id": "b978f4f1-4a10-447f-9a22-304ccb1366dd",
   "metadata": {},
   "outputs": [],
   "source": [
    "#read in orginal dataframe\n",
    "gdp_df = pd.read_csv('../data/gdp_percapita.csv.csv')"
   ]
  },
  {
   "cell_type": "markdown",
   "id": "74089696-0929-4d54-8cd3-a9fc33e8004e",
   "metadata": {},
   "source": [
    "\n",
    "# Q4"
   ]
  },
  {
   "cell_type": "markdown",
   "id": "c4f7f0b2",
   "metadata": {},
   "source": [
    "#Using the pandas read_csv() method, read the GDP dataset into your notebook as a DataFrame called gdp_df. Take a look at the first few and last few rows to familiarize yourself with what is contained in this dataset."
   ]
  },
  {
   "cell_type": "code",
   "execution_count": 3,
   "id": "3ace083d-4c97-4bfe-9ee1-965bcae70005",
   "metadata": {},
   "outputs": [
    {
     "data": {
      "text/html": [
       "<div>\n",
       "<style scoped>\n",
       "    .dataframe tbody tr th:only-of-type {\n",
       "        vertical-align: middle;\n",
       "    }\n",
       "\n",
       "    .dataframe tbody tr th {\n",
       "        vertical-align: top;\n",
       "    }\n",
       "\n",
       "    .dataframe thead th {\n",
       "        text-align: right;\n",
       "    }\n",
       "</style>\n",
       "<table border=\"1\" class=\"dataframe\">\n",
       "  <thead>\n",
       "    <tr style=\"text-align: right;\">\n",
       "      <th></th>\n",
       "      <th>Country or Area</th>\n",
       "      <th>Year</th>\n",
       "      <th>Value</th>\n",
       "      <th>Value Footnotes</th>\n",
       "    </tr>\n",
       "  </thead>\n",
       "  <tbody>\n",
       "    <tr>\n",
       "      <th>0</th>\n",
       "      <td>Afghanistan</td>\n",
       "      <td>2021</td>\n",
       "      <td>1517.016266</td>\n",
       "      <td>NaN</td>\n",
       "    </tr>\n",
       "    <tr>\n",
       "      <th>1</th>\n",
       "      <td>Afghanistan</td>\n",
       "      <td>2020</td>\n",
       "      <td>1968.341002</td>\n",
       "      <td>NaN</td>\n",
       "    </tr>\n",
       "    <tr>\n",
       "      <th>2</th>\n",
       "      <td>Afghanistan</td>\n",
       "      <td>2019</td>\n",
       "      <td>2079.921861</td>\n",
       "      <td>NaN</td>\n",
       "    </tr>\n",
       "    <tr>\n",
       "      <th>3</th>\n",
       "      <td>Afghanistan</td>\n",
       "      <td>2018</td>\n",
       "      <td>2060.698973</td>\n",
       "      <td>NaN</td>\n",
       "    </tr>\n",
       "    <tr>\n",
       "      <th>4</th>\n",
       "      <td>Afghanistan</td>\n",
       "      <td>2017</td>\n",
       "      <td>2096.093111</td>\n",
       "      <td>NaN</td>\n",
       "    </tr>\n",
       "  </tbody>\n",
       "</table>\n",
       "</div>"
      ],
      "text/plain": [
       "  Country or Area  Year        Value  Value Footnotes\n",
       "0     Afghanistan  2021  1517.016266              NaN\n",
       "1     Afghanistan  2020  1968.341002              NaN\n",
       "2     Afghanistan  2019  2079.921861              NaN\n",
       "3     Afghanistan  2018  2060.698973              NaN\n",
       "4     Afghanistan  2017  2096.093111              NaN"
      ]
     },
     "execution_count": 3,
     "metadata": {},
     "output_type": "execute_result"
    }
   ],
   "source": [
    "#looking at top 5 rows of the dataframe(df)\n",
    "gdp_df.head()"
   ]
  },
  {
   "cell_type": "code",
   "execution_count": 4,
   "id": "3fae83e0-9671-4161-b317-edd46993dea9",
   "metadata": {},
   "outputs": [
    {
     "data": {
      "text/html": [
       "<div>\n",
       "<style scoped>\n",
       "    .dataframe tbody tr th:only-of-type {\n",
       "        vertical-align: middle;\n",
       "    }\n",
       "\n",
       "    .dataframe tbody tr th {\n",
       "        vertical-align: top;\n",
       "    }\n",
       "\n",
       "    .dataframe thead th {\n",
       "        text-align: right;\n",
       "    }\n",
       "</style>\n",
       "<table border=\"1\" class=\"dataframe\">\n",
       "  <thead>\n",
       "    <tr style=\"text-align: right;\">\n",
       "      <th></th>\n",
       "      <th>Country or Area</th>\n",
       "      <th>Year</th>\n",
       "      <th>Value</th>\n",
       "      <th>Value Footnotes</th>\n",
       "    </tr>\n",
       "  </thead>\n",
       "  <tbody>\n",
       "    <tr>\n",
       "      <th>7657</th>\n",
       "      <td>Zimbabwe</td>\n",
       "      <td>1994</td>\n",
       "      <td>2670.106615</td>\n",
       "      <td>NaN</td>\n",
       "    </tr>\n",
       "    <tr>\n",
       "      <th>7658</th>\n",
       "      <td>Zimbabwe</td>\n",
       "      <td>1993</td>\n",
       "      <td>2458.783255</td>\n",
       "      <td>NaN</td>\n",
       "    </tr>\n",
       "    <tr>\n",
       "      <th>7659</th>\n",
       "      <td>Zimbabwe</td>\n",
       "      <td>1992</td>\n",
       "      <td>2468.278257</td>\n",
       "      <td>NaN</td>\n",
       "    </tr>\n",
       "    <tr>\n",
       "      <th>7660</th>\n",
       "      <td>Zimbabwe</td>\n",
       "      <td>1991</td>\n",
       "      <td>2781.787843</td>\n",
       "      <td>NaN</td>\n",
       "    </tr>\n",
       "    <tr>\n",
       "      <th>7661</th>\n",
       "      <td>Zimbabwe</td>\n",
       "      <td>1990</td>\n",
       "      <td>2704.757299</td>\n",
       "      <td>NaN</td>\n",
       "    </tr>\n",
       "  </tbody>\n",
       "</table>\n",
       "</div>"
      ],
      "text/plain": [
       "     Country or Area  Year        Value  Value Footnotes\n",
       "7657        Zimbabwe  1994  2670.106615              NaN\n",
       "7658        Zimbabwe  1993  2458.783255              NaN\n",
       "7659        Zimbabwe  1992  2468.278257              NaN\n",
       "7660        Zimbabwe  1991  2781.787843              NaN\n",
       "7661        Zimbabwe  1990  2704.757299              NaN"
      ]
     },
     "execution_count": 4,
     "metadata": {},
     "output_type": "execute_result"
    }
   ],
   "source": [
    "#looking at bottom 5 rows of the df\n",
    "gdp_df.tail()"
   ]
  },
  {
   "cell_type": "markdown",
   "id": "c367dfd2-d60e-43b8-b707-32e97c213084",
   "metadata": {},
   "source": [
    "# Q5"
   ]
  },
  {
   "cell_type": "code",
   "execution_count": 5,
   "id": "df82418a",
   "metadata": {},
   "outputs": [
    {
     "data": {
      "text/plain": [
       "(7662, 4)"
      ]
     },
     "execution_count": 5,
     "metadata": {},
     "output_type": "execute_result"
    }
   ],
   "source": [
    "#rows and columns\n",
    "gdp_df.shape"
   ]
  },
  {
   "cell_type": "code",
   "execution_count": 6,
   "id": "4cf82ba7-94cf-4b3b-a59c-f0153a8fc3e6",
   "metadata": {},
   "outputs": [
    {
     "name": "stdout",
     "output_type": "stream",
     "text": [
      "<class 'pandas.core.frame.DataFrame'>\n",
      "RangeIndex: 7662 entries, 0 to 7661\n",
      "Data columns (total 4 columns):\n",
      " #   Column           Non-Null Count  Dtype  \n",
      "---  ------           --------------  -----  \n",
      " 0   Country or Area  7662 non-null   object \n",
      " 1   Year             7662 non-null   int64  \n",
      " 2   Value            7662 non-null   float64\n",
      " 3   Value Footnotes  0 non-null      float64\n",
      "dtypes: float64(2), int64(1), object(1)\n",
      "memory usage: 239.6+ KB\n"
     ]
    }
   ],
   "source": [
    "gdp_df.info()"
   ]
  },
  {
   "cell_type": "markdown",
   "id": "ea573337-bc17-41e7-9b7e-261e993338b9",
   "metadata": {},
   "source": [
    "### Answer : 4 columns, 7662 rows; data types are country - object; year - int; value and value footnotes - float"
   ]
  },
  {
   "cell_type": "markdown",
   "id": "72e0ed20-f2aa-4570-8f4b-11e29b88d2b6",
   "metadata": {},
   "source": [
    "# Q6"
   ]
  },
  {
   "cell_type": "code",
   "execution_count": 7,
   "id": "c8bc08ff-371e-4050-83ae-8b4d4b9b6826",
   "metadata": {},
   "outputs": [],
   "source": [
    "#drop column with null values\n",
    "gdp_df = gdp_df.drop(columns=['Value Footnotes'])"
   ]
  },
  {
   "cell_type": "code",
   "execution_count": 8,
   "id": "96486205-f7df-4fa0-a0d7-a48476112918",
   "metadata": {},
   "outputs": [
    {
     "name": "stdout",
     "output_type": "stream",
     "text": [
      "<class 'pandas.core.frame.DataFrame'>\n",
      "RangeIndex: 7662 entries, 0 to 7661\n",
      "Data columns (total 3 columns):\n",
      " #   Column           Non-Null Count  Dtype  \n",
      "---  ------           --------------  -----  \n",
      " 0   Country or Area  7662 non-null   object \n",
      " 1   Year             7662 non-null   int64  \n",
      " 2   Value            7662 non-null   float64\n",
      "dtypes: float64(1), int64(1), object(1)\n",
      "memory usage: 179.7+ KB\n"
     ]
    }
   ],
   "source": [
    "gdp_df.info()"
   ]
  },
  {
   "cell_type": "code",
   "execution_count": 9,
   "id": "d10321f3-cc00-4b5a-94f4-8c246510b8dd",
   "metadata": {},
   "outputs": [],
   "source": [
    "#rename columns\n",
    "gdp_fn = gdp_df.rename(columns={'Country or Area': 'Country', 'Value': 'GDP_Per_Capita'})\n",
    "\n",
    "#OR in the order of the column appearance\n",
    "#gdp_fn.columns[\"Country\",\"Year\", \"GDP_Per_Capita\"]"
   ]
  },
  {
   "cell_type": "markdown",
   "id": "c7f37852-2883-457b-b560-82180529f014",
   "metadata": {},
   "source": [
    "# Q7"
   ]
  },
  {
   "cell_type": "markdown",
   "id": "6a43e623",
   "metadata": {},
   "source": [
    "#ALTERNATE SOLUTIONS\n",
    "#gives the unique count of the years .unique() lists the unique years\n",
    "#gdp_fn['Year'].nunique()\n",
    "\n",
    "\n",
    "#list the years\n",
    "#gdp_fn['Year'].sort_values.unique().tolist()\n",
    "\n",
    "\n",
    "#list the countries and counts how many times it appears in each year \n",
    "#gdp_fn['Country'].value_counts().reset_index()\n",
    "\n",
    "#rename column index to coount\n",
    "#count_df = gdp_fn['Country'].value_counts().reset_index(name='Counts')\n",
    "\n",
    "\n",
    "#only grabs rows where count is 33\n",
    "#count_df[count_df['count'==33]]\n",
    "\n",
    "\n",
    "#only grabs rows where count is less than 33\n",
    "#count_df[count_df['count'<33]]"
   ]
  },
  {
   "cell_type": "code",
   "execution_count": 10,
   "id": "9f884a0d-6262-4698-a554-f96b8f758631",
   "metadata": {},
   "outputs": [
    {
     "name": "stdout",
     "output_type": "stream",
     "text": [
      "                                  Country or Area  Counts\n",
      "0    Least developed countries: UN classification      33\n",
      "1                      Middle East & North Africa      33\n",
      "2         Middle East & North Africa (IDA & IBRD)      33\n",
      "3                                   Middle income      33\n",
      "4                                        Mongolia      33\n",
      "..                                            ...     ...\n",
      "237                                        Kosovo      15\n",
      "238                     Sint Maarten (Dutch part)      14\n",
      "239                      Turks and Caicos Islands      12\n",
      "240                                       Somalia      10\n",
      "241                                      Djibouti      10\n",
      "\n",
      "[242 rows x 2 columns]\n",
      "                                   Country or Area  Counts\n",
      "192                                         France      33\n",
      "193                                          Gabon      33\n",
      "194                                        Albania      33\n",
      "195                          Europe & Central Asia      33\n",
      "196                                        Georgia      33\n",
      "197                                        Finland      33\n",
      "198  Europe & Central Asia (excluding high income)      33\n",
      "199                                          Ghana      33\n",
      "200                                      Euro area      33\n",
      "201                                        Germany      33\n",
      "202                                        Hungary      32\n",
      "203                                        Lebanon      32\n",
      "204                                          Aruba      32\n",
      "205                                          Tonga      32\n",
      "206                                         Bhutan      32\n",
      "207                                Slovak Republic      31\n",
      "208                                         Kuwait      31\n",
      "209                                   Turkmenistan      31\n",
      "210                                       Cambodia      30\n",
      "211                             West Bank and Gaza      29\n",
      "212                         Bosnia and Herzegovina      29\n",
      "213                                         Latvia      28\n",
      "214                                         Israel      28\n",
      "215                                        Estonia      28\n",
      "216                                         Serbia      28\n",
      "217                                      Lithuania      28\n",
      "218                                        Iceland      28\n",
      "219                                        Moldova      28\n",
      "220                                       Maldives      28\n",
      "221                                        Croatia      28\n",
      "222                                       Slovenia      28\n",
      "223                                   Small states      26\n",
      "224                                     Montenegro      26\n",
      "225                                     San Marino      25\n",
      "226                                          Libya      24\n",
      "227                                    Timor-Leste      23\n",
      "228                                        Liberia      23\n",
      "229                             Other small states      23\n",
      "230                                          Qatar      23\n",
      "231                                          Palau      22\n",
      "232                                       CuraÃ§ao      22\n",
      "233                        SÃ£o TomÃ© and Principe      22\n",
      "234                                    Afghanistan      20\n",
      "235                                          Nauru      19\n",
      "236                                 Cayman Islands      16\n",
      "237                                         Kosovo      15\n",
      "238                      Sint Maarten (Dutch part)      14\n",
      "239                       Turks and Caicos Islands      12\n",
      "240                                        Somalia      10\n",
      "241                                       Djibouti      10\n"
     ]
    }
   ],
   "source": [
    "#count each year data was collected per country\n",
    "count_of_countries= gdp_df['Country or Area'].value_counts().reset_index(name='Counts')\n",
    "print(count_of_countries)\n",
    "print(count_of_countries.tail(50))"
   ]
  },
  {
   "cell_type": "code",
   "execution_count": 11,
   "id": "7c5005f6-9ef3-4756-878c-3201ae203b7b",
   "metadata": {},
   "outputs": [
    {
     "name": "stdout",
     "output_type": "stream",
     "text": [
      "Country or Area    40\n",
      "Counts             40\n",
      "dtype: int64\n",
      "Country or Area    202\n",
      "Counts             202\n",
      "dtype: int64\n",
      "               Country or Area  Counts\n",
      "202                    Hungary      32\n",
      "203                    Lebanon      32\n",
      "204                      Aruba      32\n",
      "205                      Tonga      32\n",
      "206                     Bhutan      32\n",
      "207            Slovak Republic      31\n",
      "208                     Kuwait      31\n",
      "209               Turkmenistan      31\n",
      "210                   Cambodia      30\n",
      "211         West Bank and Gaza      29\n",
      "212     Bosnia and Herzegovina      29\n",
      "213                     Latvia      28\n",
      "214                     Israel      28\n",
      "215                    Estonia      28\n",
      "216                     Serbia      28\n",
      "217                  Lithuania      28\n",
      "218                    Iceland      28\n",
      "219                    Moldova      28\n",
      "220                   Maldives      28\n",
      "221                    Croatia      28\n",
      "222                   Slovenia      28\n",
      "223               Small states      26\n",
      "224                 Montenegro      26\n",
      "225                 San Marino      25\n",
      "226                      Libya      24\n",
      "227                Timor-Leste      23\n",
      "228                    Liberia      23\n",
      "229         Other small states      23\n",
      "230                      Qatar      23\n",
      "231                      Palau      22\n",
      "232                   CuraÃ§ao      22\n",
      "233    SÃ£o TomÃ© and Principe      22\n",
      "234                Afghanistan      20\n",
      "235                      Nauru      19\n",
      "236             Cayman Islands      16\n",
      "237                     Kosovo      15\n",
      "238  Sint Maarten (Dutch part)      14\n",
      "239   Turks and Caicos Islands      12\n",
      "240                    Somalia      10\n",
      "241                   Djibouti      10\n"
     ]
    }
   ],
   "source": [
    "#all_years: counts countries not missing data\n",
    "all_years=count_of_countries[count_of_countries[\"Counts\"]== 33].count()\n",
    "\n",
    "#missing:counts countries with missing data\n",
    "missing= count_of_countries[count_of_countries[\"Counts\"]< 33].count()\n",
    "\n",
    "#missing_names: lists countries with missing data\n",
    "missing_names= count_of_countries[count_of_countries[\"Counts\"]< 33]\n",
    "\n",
    "print(missing)\n",
    "print(all_years)\n",
    "print(missing_names)"
   ]
  },
  {
   "cell_type": "markdown",
   "id": "c8a89e66-cf3c-4277-a2f2-24d4c74be0fa",
   "metadata": {},
   "source": [
    "#### Answer: 202 countries have data for all the years"
   ]
  },
  {
   "cell_type": "markdown",
   "id": "08526873-d31a-4f2c-a757-594f397a7ca7",
   "metadata": {},
   "source": [
    "# Q8"
   ]
  },
  {
   "cell_type": "code",
   "execution_count": 12,
   "id": "b480a340-8b71-4c53-acca-7b8b059518c1",
   "metadata": {},
   "outputs": [
    {
     "name": "stdout",
     "output_type": "stream",
     "text": [
      "                  Country or Area  Year         Value\n",
      "1                     Afghanistan  2020   1968.341002\n",
      "22    Africa Eastern and Southern  2020   3455.023119\n",
      "55     Africa Western and Central  2020   3957.933804\n",
      "88                        Albania  2020  13278.369769\n",
      "121                       Algeria  2020  10844.770764\n",
      "...                           ...   ...           ...\n",
      "7503                     Viet Nam  2020  10450.622382\n",
      "7536           West Bank and Gaza  2020   5402.538773\n",
      "7565                        World  2020  16204.169107\n",
      "7598                       Zambia  2020   3183.650773\n",
      "7631                     Zimbabwe  2020   1990.319419\n",
      "\n",
      "[242 rows x 3 columns]\n"
     ]
    }
   ],
   "source": [
    "d2020=gdp_df[gdp_df[\"Year\"]==2020]\n",
    "print(d2020)"
   ]
  },
  {
   "cell_type": "code",
   "execution_count": 13,
   "id": "e8ba5a03-8efb-4629-88e5-aee72cac5d87",
   "metadata": {},
   "outputs": [
    {
     "name": "stderr",
     "output_type": "stream",
     "text": [
      "C:\\Users\\ronej\\anaconda3\\Lib\\site-packages\\seaborn\\_oldcore.py:1119: FutureWarning: use_inf_as_na option is deprecated and will be removed in a future version. Convert inf values to NaN before operating instead.\n",
      "  with pd.option_context('mode.use_inf_as_na', True):\n"
     ]
    },
    {
     "data": {
      "text/plain": [
       "<seaborn.axisgrid.FacetGrid at 0x2124aecef10>"
      ]
     },
     "execution_count": 13,
     "metadata": {},
     "output_type": "execute_result"
    },
    {
     "data": {
      "image/png": "[encoded data removed]",
      "text/plain": [
       "<Figure size 500x500 with 1 Axes>"
      ]
     },
     "metadata": {},
     "output_type": "display_data"
    }
   ],
   "source": [
    "#histogram\n",
    "sns.displot(data=d2020[\"Value\"], kde=True)"
   ]
  },
  {
   "cell_type": "code",
   "execution_count": 14,
   "id": "aae04e60-8e6b-406a-9bfa-812bfef2f134",
   "metadata": {},
   "outputs": [
    {
     "data": {
      "text/plain": [
       "(array([111.,  60.,  24.,  19.,  15.,   5.,   4.,   1.,   2.,   1.]),\n",
       " array([   711.35526342,  11815.35121222,  22919.34716101,  34023.3431098 ,\n",
       "         45127.3390586 ,  56231.33500739,  67335.33095619,  78439.32690498,\n",
       "         89543.32285377, 100647.31880257, 111751.31475136]),\n",
       " <BarContainer object of 10 artists>)"
      ]
     },
     "execution_count": 14,
     "metadata": {},
     "output_type": "execute_result"
    },
    {
     "data": {
      "image/png": "[encoded data removed]",
      "text/plain": [
       "<Figure size 640x480 with 1 Axes>"
      ]
     },
     "metadata": {},
     "output_type": "display_data"
    }
   ],
   "source": [
    "#histogram using matplotlib\n",
    "plt.hist(d2020.Value)"
   ]
  },
  {
   "cell_type": "markdown",
   "id": "70bf48c6",
   "metadata": {},
   "source": [
    "#### From histogram, GDP per capita distribution in 2020 is skewed "
   ]
  },
  {
   "cell_type": "code",
   "execution_count": 15,
   "id": "f7c0a3e0-fda1-47f6-bea1-22d54a7eecaf",
   "metadata": {},
   "outputs": [
    {
     "name": "stderr",
     "output_type": "stream",
     "text": [
      "C:\\Users\\ronej\\anaconda3\\Lib\\site-packages\\seaborn\\_oldcore.py:1119: FutureWarning: use_inf_as_na option is deprecated and will be removed in a future version. Convert inf values to NaN before operating instead.\n",
      "  with pd.option_context('mode.use_inf_as_na', True):\n"
     ]
    },
    {
     "data": {
      "text/plain": [
       "<Axes: xlabel='Value', ylabel='Density'>"
      ]
     },
     "execution_count": 15,
     "metadata": {},
     "output_type": "execute_result"
    },
    {
     "data": {
      "image/png": "[encoded data removed]",
      "text/plain": [
       "<Figure size 640x480 with 1 Axes>"
      ]
     },
     "metadata": {},
     "output_type": "display_data"
    }
   ],
   "source": [
    "#density plot\n",
    "sns.kdeplot(d2020['Value'],fill=True)"
   ]
  },
  {
   "cell_type": "markdown",
   "id": "e032c53d",
   "metadata": {},
   "source": [
    "#### Most countries had a GDP per capita less than 20,000 in 2020"
   ]
  },
  {
   "cell_type": "markdown",
   "id": "afc16d54",
   "metadata": {},
   "source": [
    "# Boxplot"
   ]
  },
  {
   "cell_type": "code",
   "execution_count": 16,
   "id": "5c72be20-65d1-491c-b586-043867c69d99",
   "metadata": {},
   "outputs": [
    {
     "data": {
      "text/plain": [
       "<Axes: xlabel='Year', ylabel='Value'>"
      ]
     },
     "execution_count": 16,
     "metadata": {},
     "output_type": "execute_result"
    },
    {
     "data": {
      "image/png": "[encoded data removed]",
      "text/plain": [
       "<Figure size 640x480 with 1 Axes>"
      ]
     },
     "metadata": {},
     "output_type": "display_data"
    }
   ],
   "source": [
    "#boxplot\n",
    "sns.boxplot(x=d2020[\"Year\"], y=d2020[\"Value\"])"
   ]
  },
  {
   "cell_type": "markdown",
   "id": "72706845",
   "metadata": {},
   "source": [
    "#### Some countries had such a high GDP per capita in 2020 (outliers), that they would need to be excluded from analysis of GDP per capita for all the countries in 2020."
   ]
  },
  {
   "cell_type": "markdown",
   "id": "fa4008bd-841a-486d-99d4-f3339b3ef4ac",
   "metadata": {},
   "source": [
    "# Violin plot"
   ]
  },
  {
   "cell_type": "code",
   "execution_count": 17,
   "id": "b6fe10a4-c224-4f44-8aa0-eba19443a033",
   "metadata": {},
   "outputs": [
    {
     "data": {
      "text/plain": [
       "<Axes: xlabel='Year', ylabel='Value'>"
      ]
     },
     "execution_count": 17,
     "metadata": {},
     "output_type": "execute_result"
    },
    {
     "data": {
      "image/png": "[encoded data removed]",
      "text/plain": [
       "<Figure size 640x480 with 1 Axes>"
      ]
     },
     "metadata": {},
     "output_type": "display_data"
    }
   ],
   "source": [
    "#violin plot of 2020 GDP per capita\n",
    "sns.violinplot(x=d2020[\"Year\"], y=d2020[\"Value\"])\n",
    "#sns.violinplot(d2020)"
   ]
  },
  {
   "cell_type": "markdown",
   "id": "1c92e739-ec1a-4a92-8a34-c45539b14d50",
   "metadata": {},
   "source": [
    "# Q9"
   ]
  },
  {
   "cell_type": "code",
   "execution_count": 18,
   "id": "f7db94ef-9ce3-4e23-a6d5-a9a134e5b421",
   "metadata": {},
   "outputs": [
    {
     "name": "stdout",
     "output_type": "stream",
     "text": [
      "13357.997573370474\n"
     ]
    }
   ],
   "source": [
    "#median GDP per capita value in 2020\n",
    "med_gdp_2020= gdp_df[gdp_df[\"Year\"]==2020][\"Value\"].median()\n",
    "print(med_gdp_2020)"
   ]
  },
  {
   "cell_type": "markdown",
   "id": "84c0553c",
   "metadata": {},
   "source": [
    "#### Answer: Median GDP per capita value in 2020 - 13,358"
   ]
  },
  {
   "cell_type": "code",
   "execution_count": 19,
   "id": "0f56a24d-328a-45ca-82c4-3192b8dacd36",
   "metadata": {},
   "outputs": [],
   "source": [
    "# display min, max\n",
    "#all_gdp_2020= d2020[d2020[\"Value\"]].agg([min,max])"
   ]
  },
  {
   "cell_type": "markdown",
   "id": "29bc379c-01b8-413d-913c-1d51bd2a8770",
   "metadata": {},
   "source": [
    "# Q10"
   ]
  },
  {
   "cell_type": "code",
   "execution_count": 20,
   "id": "4c88de1f-3c3f-4448-8ce5-bb7717248372",
   "metadata": {},
   "outputs": [
    {
     "name": "stdout",
     "output_type": "stream",
     "text": [
      "                          Country  Year  GDP_Per_Capita\n",
      "1                     Afghanistan  2020     1968.341002\n",
      "11                    Afghanistan  2010     2026.163818\n",
      "22    Africa Eastern and Southern  2020     3455.023119\n",
      "32    Africa Eastern and Southern  2010     3513.315920\n",
      "42    Africa Eastern and Southern  2000     2897.140841\n",
      "...                           ...   ...             ...\n",
      "7628                       Zambia  1990     2290.039226\n",
      "7631                     Zimbabwe  2020     1990.319419\n",
      "7641                     Zimbabwe  2010     1799.540233\n",
      "7651                     Zimbabwe  2000     2750.601236\n",
      "7661                     Zimbabwe  1990     2704.757299\n",
      "\n",
      "[921 rows x 3 columns]\n"
     ]
    }
   ],
   "source": [
    "#subsetting data to only include the years 1990, 2000, 2010, and 2020 \n",
    "years=[1990,2000,2010,2020]\n",
    "gdp_decades=gdp_fn[gdp_fn[\"Year\"].isin(years)]\n",
    "print(gdp_decades)"
   ]
  },
  {
   "cell_type": "code",
   "execution_count": 21,
   "id": "38cc31f7-c110-406b-8bfa-1abe24b95cba",
   "metadata": {},
   "outputs": [
    {
     "name": "stdout",
     "output_type": "stream",
     "text": [
      "          Country  GDP_Per_Capita\n",
      "0     Afghanistan     1517.016266\n",
      "1     Afghanistan     1968.341002\n",
      "2     Afghanistan     2079.921861\n",
      "3     Afghanistan     2060.698973\n",
      "4     Afghanistan     2096.093111\n",
      "...           ...             ...\n",
      "7657     Zimbabwe     2670.106615\n",
      "7658     Zimbabwe     2458.783255\n",
      "7659     Zimbabwe     2468.278257\n",
      "7660     Zimbabwe     2781.787843\n",
      "7661     Zimbabwe     2704.757299\n",
      "\n",
      "[7662 rows x 2 columns]\n"
     ]
    }
   ],
   "source": [
    "# another solution for decades\n",
    "gdp_fn_ind= gdp_fn.set_index(\"Year\")\n",
    "#gdp_fn_ind.reset_index()\n",
    "dec= gdp_fn_ind.reset_index(drop=True)\n",
    "\n",
    "decs2= gdp_fn_ind.loc[[1990, 2000, 2010, 2020]]\n",
    "\n",
    "\n",
    "print(dec)"
   ]
  },
  {
   "cell_type": "markdown",
   "id": "2954224d-6727-4caf-b611-1e9ee5242907",
   "metadata": {},
   "source": [
    "# Boxplot\n"
   ]
  },
  {
   "cell_type": "code",
   "execution_count": 22,
   "id": "36bdc6e7-0d0d-4849-b63e-4320e3ab43bb",
   "metadata": {},
   "outputs": [
    {
     "data": {
      "text/plain": [
       "<Axes: xlabel='Year', ylabel='GDP_Per_Capita'>"
      ]
     },
     "execution_count": 22,
     "metadata": {},
     "output_type": "execute_result"
    },
    {
     "data": {
      "image/png": "[encoded data removed]",
      "text/plain": [
       "<Figure size 640x480 with 1 Axes>"
      ]
     },
     "metadata": {},
     "output_type": "display_data"
    }
   ],
   "source": [
    "sns.boxplot(x =\"Year\", y=\"GDP_Per_Capita\", data=gdp_decades)"
   ]
  },
  {
   "cell_type": "markdown",
   "id": "58765936-4811-4b85-b71c-e85299d20064",
   "metadata": {},
   "source": [
    "# Barplot\n"
   ]
  },
  {
   "cell_type": "code",
   "execution_count": 23,
   "id": "25bd7792-b8d0-49ff-a5a4-078811b5af17",
   "metadata": {},
   "outputs": [
    {
     "data": {
      "text/plain": [
       "<Axes: xlabel='Year', ylabel='GDP_Per_Capita'>"
      ]
     },
     "execution_count": 23,
     "metadata": {},
     "output_type": "execute_result"
    },
    {
     "data": {
      "image/png": "[encoded data removed]",
      "text/plain": [
       "<Figure size 640x480 with 1 Axes>"
      ]
     },
     "metadata": {},
     "output_type": "display_data"
    }
   ],
   "source": [
    "#bar plot\n",
    "#plt.bar(gdp_decades.Year,gdp_decades.GDP_Per_Capita)---- didn't work/looks odd\n",
    "sns.barplot(x =\"Year\", y=\"GDP_Per_Capita\", data=gdp_decades)\n"
   ]
  },
  {
   "cell_type": "markdown",
   "id": "fcdb4601",
   "metadata": {},
   "source": [
    "# Scatterplot "
   ]
  },
  {
   "cell_type": "code",
   "execution_count": 24,
   "id": "4d9924ce",
   "metadata": {},
   "outputs": [
    {
     "data": {
      "image/png": "[encoded data removed]",
      "text/plain": [
       "<Figure size 640x480 with 1 Axes>"
      ]
     },
     "metadata": {},
     "output_type": "display_data"
    }
   ],
   "source": [
    "#plt.scatter(gdp_decades.Year,gdp_decades.GDP_Per_Capita)\n",
    "plt.plot('Year','GDP_Per_Capita', data=gdp_decades, linestyle= 'none', marker= 'o')\n",
    "#changed x-axis increment below to only display years in my decades variable\n",
    "plt.xticks(np.arange(1990, 2030, step =10))\n",
    "plt.show()"
   ]
  },
  {
   "cell_type": "markdown",
   "id": "741562d4",
   "metadata": {},
   "source": [
    "# Scatterplot with a trend line"
   ]
  },
  {
   "cell_type": "code",
   "execution_count": 25,
   "id": "4d9f9df6-891e-414a-86a6-84f0aed1c3da",
   "metadata": {},
   "outputs": [
    {
     "data": {
      "text/plain": [
       "<Axes: xlabel='Year', ylabel='GDP_Per_Capita'>"
      ]
     },
     "execution_count": 25,
     "metadata": {},
     "output_type": "execute_result"
    },
    {
     "data": {
      "image/png": "[encoded data removed]",
      "text/plain": [
       "<Figure size 640x480 with 1 Axes>"
      ]
     },
     "metadata": {},
     "output_type": "display_data"
    }
   ],
   "source": [
    "#scratteplot with trendline\n",
    "#plt.scatter(gdp_decades.Year,gdp_decades.GDP_Per_Capita)\n",
    "sns.regplot(x=gdp_decades[\"Year\"], y=gdp_decades[\"GDP_Per_Capita\"])\n",
    "\n",
    "#gdp_decades.plot.scatter('Year','GDP_Per_Capita',grid= False)"
   ]
  },
  {
   "cell_type": "markdown",
   "id": "0761e59b-d37f-4b6d-938a-b33362b503c6",
   "metadata": {},
   "source": [
    "#### Answer: From 1990 to 2000, it seems one country experienced a drop in GDP per capita, while as a whole, GDP per capita over time from 1990 was.  There is a bit of a drop seen in 2020, most likely related to COVID-19."
   ]
  },
  {
   "cell_type": "markdown",
   "id": "8bf5e75f-9872-463c-ba92-48e8492966b6",
   "metadata": {},
   "source": [
    "# Q11 "
   ]
  },
  {
   "cell_type": "code",
   "execution_count": 26,
   "id": "470538dc-bd44-4e67-a244-1455e73cdd38",
   "metadata": {},
   "outputs": [
    {
     "data": {
      "text/html": [
       "<div>\n",
       "<style scoped>\n",
       "    .dataframe tbody tr th:only-of-type {\n",
       "        vertical-align: middle;\n",
       "    }\n",
       "\n",
       "    .dataframe tbody tr th {\n",
       "        vertical-align: top;\n",
       "    }\n",
       "\n",
       "    .dataframe thead th {\n",
       "        text-align: right;\n",
       "    }\n",
       "</style>\n",
       "<table border=\"1\" class=\"dataframe\">\n",
       "  <thead>\n",
       "    <tr style=\"text-align: right;\">\n",
       "      <th></th>\n",
       "      <th>Country</th>\n",
       "      <th>Year</th>\n",
       "      <th>GDP_Per_Capita</th>\n",
       "    </tr>\n",
       "  </thead>\n",
       "  <tbody>\n",
       "    <tr>\n",
       "      <th>7302</th>\n",
       "      <td>United Arab Emirates</td>\n",
       "      <td>1990</td>\n",
       "      <td>105893.626059</td>\n",
       "    </tr>\n",
       "    <tr>\n",
       "      <th>7301</th>\n",
       "      <td>United Arab Emirates</td>\n",
       "      <td>1991</td>\n",
       "      <td>101048.696239</td>\n",
       "    </tr>\n",
       "    <tr>\n",
       "      <th>7295</th>\n",
       "      <td>United Arab Emirates</td>\n",
       "      <td>1997</td>\n",
       "      <td>100956.706467</td>\n",
       "    </tr>\n",
       "    <tr>\n",
       "      <th>4167</th>\n",
       "      <td>Luxembourg</td>\n",
       "      <td>2001</td>\n",
       "      <td>101143.147977</td>\n",
       "    </tr>\n",
       "    <tr>\n",
       "      <th>4166</th>\n",
       "      <td>Luxembourg</td>\n",
       "      <td>2002</td>\n",
       "      <td>103317.331098</td>\n",
       "    </tr>\n",
       "    <tr>\n",
       "      <th>4165</th>\n",
       "      <td>Luxembourg</td>\n",
       "      <td>2003</td>\n",
       "      <td>104743.000088</td>\n",
       "    </tr>\n",
       "    <tr>\n",
       "      <th>4164</th>\n",
       "      <td>Luxembourg</td>\n",
       "      <td>2004</td>\n",
       "      <td>107634.837198</td>\n",
       "    </tr>\n",
       "    <tr>\n",
       "      <th>4163</th>\n",
       "      <td>Luxembourg</td>\n",
       "      <td>2005</td>\n",
       "      <td>108632.360016</td>\n",
       "    </tr>\n",
       "    <tr>\n",
       "      <th>4162</th>\n",
       "      <td>Luxembourg</td>\n",
       "      <td>2006</td>\n",
       "      <td>113346.035782</td>\n",
       "    </tr>\n",
       "    <tr>\n",
       "      <th>4161</th>\n",
       "      <td>Luxembourg</td>\n",
       "      <td>2007</td>\n",
       "      <td>120647.822959</td>\n",
       "    </tr>\n",
       "    <tr>\n",
       "      <th>4160</th>\n",
       "      <td>Luxembourg</td>\n",
       "      <td>2008</td>\n",
       "      <td>118154.667184</td>\n",
       "    </tr>\n",
       "    <tr>\n",
       "      <th>4159</th>\n",
       "      <td>Luxembourg</td>\n",
       "      <td>2009</td>\n",
       "      <td>112230.081410</td>\n",
       "    </tr>\n",
       "    <tr>\n",
       "      <th>5756</th>\n",
       "      <td>Qatar</td>\n",
       "      <td>2010</td>\n",
       "      <td>103902.519310</td>\n",
       "    </tr>\n",
       "    <tr>\n",
       "      <th>4158</th>\n",
       "      <td>Luxembourg</td>\n",
       "      <td>2010</td>\n",
       "      <td>114343.988089</td>\n",
       "    </tr>\n",
       "    <tr>\n",
       "      <th>4191</th>\n",
       "      <td>Macao SAR, China</td>\n",
       "      <td>2010</td>\n",
       "      <td>114042.495308</td>\n",
       "    </tr>\n",
       "    <tr>\n",
       "      <th>4190</th>\n",
       "      <td>Macao SAR, China</td>\n",
       "      <td>2011</td>\n",
       "      <td>135365.387353</td>\n",
       "    </tr>\n",
       "    <tr>\n",
       "      <th>5755</th>\n",
       "      <td>Qatar</td>\n",
       "      <td>2011</td>\n",
       "      <td>111879.747777</td>\n",
       "    </tr>\n",
       "    <tr>\n",
       "      <th>4157</th>\n",
       "      <td>Luxembourg</td>\n",
       "      <td>2011</td>\n",
       "      <td>112998.390477</td>\n",
       "    </tr>\n",
       "    <tr>\n",
       "      <th>4189</th>\n",
       "      <td>Macao SAR, China</td>\n",
       "      <td>2012</td>\n",
       "      <td>144891.341893</td>\n",
       "    </tr>\n",
       "    <tr>\n",
       "      <th>5754</th>\n",
       "      <td>Qatar</td>\n",
       "      <td>2012</td>\n",
       "      <td>110931.506472</td>\n",
       "    </tr>\n",
       "    <tr>\n",
       "      <th>4156</th>\n",
       "      <td>Luxembourg</td>\n",
       "      <td>2012</td>\n",
       "      <td>112137.135491</td>\n",
       "    </tr>\n",
       "    <tr>\n",
       "      <th>4188</th>\n",
       "      <td>Macao SAR, China</td>\n",
       "      <td>2013</td>\n",
       "      <td>157602.482546</td>\n",
       "    </tr>\n",
       "    <tr>\n",
       "      <th>5753</th>\n",
       "      <td>Qatar</td>\n",
       "      <td>2013</td>\n",
       "      <td>109625.629601</td>\n",
       "    </tr>\n",
       "    <tr>\n",
       "      <th>4155</th>\n",
       "      <td>Luxembourg</td>\n",
       "      <td>2013</td>\n",
       "      <td>113050.663254</td>\n",
       "    </tr>\n",
       "    <tr>\n",
       "      <th>4154</th>\n",
       "      <td>Luxembourg</td>\n",
       "      <td>2014</td>\n",
       "      <td>113313.578898</td>\n",
       "    </tr>\n",
       "    <tr>\n",
       "      <th>4187</th>\n",
       "      <td>Macao SAR, China</td>\n",
       "      <td>2014</td>\n",
       "      <td>151616.402364</td>\n",
       "    </tr>\n",
       "    <tr>\n",
       "      <th>5752</th>\n",
       "      <td>Qatar</td>\n",
       "      <td>2014</td>\n",
       "      <td>106141.326189</td>\n",
       "    </tr>\n",
       "    <tr>\n",
       "      <th>4186</th>\n",
       "      <td>Macao SAR, China</td>\n",
       "      <td>2015</td>\n",
       "      <td>116855.533716</td>\n",
       "    </tr>\n",
       "    <tr>\n",
       "      <th>4153</th>\n",
       "      <td>Luxembourg</td>\n",
       "      <td>2015</td>\n",
       "      <td>113182.728563</td>\n",
       "    </tr>\n",
       "    <tr>\n",
       "      <th>5751</th>\n",
       "      <td>Qatar</td>\n",
       "      <td>2015</td>\n",
       "      <td>101971.989608</td>\n",
       "    </tr>\n",
       "    <tr>\n",
       "      <th>4185</th>\n",
       "      <td>Macao SAR, China</td>\n",
       "      <td>2016</td>\n",
       "      <td>113941.669777</td>\n",
       "    </tr>\n",
       "    <tr>\n",
       "      <th>4152</th>\n",
       "      <td>Luxembourg</td>\n",
       "      <td>2016</td>\n",
       "      <td>116283.699681</td>\n",
       "    </tr>\n",
       "    <tr>\n",
       "      <th>4184</th>\n",
       "      <td>Macao SAR, China</td>\n",
       "      <td>2017</td>\n",
       "      <td>122977.508955</td>\n",
       "    </tr>\n",
       "    <tr>\n",
       "      <th>4151</th>\n",
       "      <td>Luxembourg</td>\n",
       "      <td>2017</td>\n",
       "      <td>114985.842236</td>\n",
       "    </tr>\n",
       "    <tr>\n",
       "      <th>4183</th>\n",
       "      <td>Macao SAR, China</td>\n",
       "      <td>2018</td>\n",
       "      <td>128437.322962</td>\n",
       "    </tr>\n",
       "    <tr>\n",
       "      <th>4150</th>\n",
       "      <td>Luxembourg</td>\n",
       "      <td>2018</td>\n",
       "      <td>114164.468558</td>\n",
       "    </tr>\n",
       "    <tr>\n",
       "      <th>4149</th>\n",
       "      <td>Luxembourg</td>\n",
       "      <td>2019</td>\n",
       "      <td>114542.496934</td>\n",
       "    </tr>\n",
       "    <tr>\n",
       "      <th>4182</th>\n",
       "      <td>Macao SAR, China</td>\n",
       "      <td>2019</td>\n",
       "      <td>122822.124456</td>\n",
       "    </tr>\n",
       "    <tr>\n",
       "      <th>4148</th>\n",
       "      <td>Luxembourg</td>\n",
       "      <td>2020</td>\n",
       "      <td>111751.314751</td>\n",
       "    </tr>\n",
       "    <tr>\n",
       "      <th>4147</th>\n",
       "      <td>Luxembourg</td>\n",
       "      <td>2021</td>\n",
       "      <td>115683.493708</td>\n",
       "    </tr>\n",
       "    <tr>\n",
       "      <th>6107</th>\n",
       "      <td>Singapore</td>\n",
       "      <td>2021</td>\n",
       "      <td>107741.118436</td>\n",
       "    </tr>\n",
       "    <tr>\n",
       "      <th>3278</th>\n",
       "      <td>Ireland</td>\n",
       "      <td>2021</td>\n",
       "      <td>102785.490239</td>\n",
       "    </tr>\n",
       "    <tr>\n",
       "      <th>4146</th>\n",
       "      <td>Luxembourg</td>\n",
       "      <td>2022</td>\n",
       "      <td>115541.774828</td>\n",
       "    </tr>\n",
       "    <tr>\n",
       "      <th>6106</th>\n",
       "      <td>Singapore</td>\n",
       "      <td>2022</td>\n",
       "      <td>108036.110993</td>\n",
       "    </tr>\n",
       "    <tr>\n",
       "      <th>3277</th>\n",
       "      <td>Ireland</td>\n",
       "      <td>2022</td>\n",
       "      <td>113870.785550</td>\n",
       "    </tr>\n",
       "  </tbody>\n",
       "</table>\n",
       "</div>"
      ],
      "text/plain": [
       "                   Country  Year  GDP_Per_Capita\n",
       "7302  United Arab Emirates  1990   105893.626059\n",
       "7301  United Arab Emirates  1991   101048.696239\n",
       "7295  United Arab Emirates  1997   100956.706467\n",
       "4167            Luxembourg  2001   101143.147977\n",
       "4166            Luxembourg  2002   103317.331098\n",
       "4165            Luxembourg  2003   104743.000088\n",
       "4164            Luxembourg  2004   107634.837198\n",
       "4163            Luxembourg  2005   108632.360016\n",
       "4162            Luxembourg  2006   113346.035782\n",
       "4161            Luxembourg  2007   120647.822959\n",
       "4160            Luxembourg  2008   118154.667184\n",
       "4159            Luxembourg  2009   112230.081410\n",
       "5756                 Qatar  2010   103902.519310\n",
       "4158            Luxembourg  2010   114343.988089\n",
       "4191      Macao SAR, China  2010   114042.495308\n",
       "4190      Macao SAR, China  2011   135365.387353\n",
       "5755                 Qatar  2011   111879.747777\n",
       "4157            Luxembourg  2011   112998.390477\n",
       "4189      Macao SAR, China  2012   144891.341893\n",
       "5754                 Qatar  2012   110931.506472\n",
       "4156            Luxembourg  2012   112137.135491\n",
       "4188      Macao SAR, China  2013   157602.482546\n",
       "5753                 Qatar  2013   109625.629601\n",
       "4155            Luxembourg  2013   113050.663254\n",
       "4154            Luxembourg  2014   113313.578898\n",
       "4187      Macao SAR, China  2014   151616.402364\n",
       "5752                 Qatar  2014   106141.326189\n",
       "4186      Macao SAR, China  2015   116855.533716\n",
       "4153            Luxembourg  2015   113182.728563\n",
       "5751                 Qatar  2015   101971.989608\n",
       "4185      Macao SAR, China  2016   113941.669777\n",
       "4152            Luxembourg  2016   116283.699681\n",
       "4184      Macao SAR, China  2017   122977.508955\n",
       "4151            Luxembourg  2017   114985.842236\n",
       "4183      Macao SAR, China  2018   128437.322962\n",
       "4150            Luxembourg  2018   114164.468558\n",
       "4149            Luxembourg  2019   114542.496934\n",
       "4182      Macao SAR, China  2019   122822.124456\n",
       "4148            Luxembourg  2020   111751.314751\n",
       "4147            Luxembourg  2021   115683.493708\n",
       "6107             Singapore  2021   107741.118436\n",
       "3278               Ireland  2021   102785.490239\n",
       "4146            Luxembourg  2022   115541.774828\n",
       "6106             Singapore  2022   108036.110993\n",
       "3277               Ireland  2022   113870.785550"
      ]
     },
     "execution_count": 26,
     "metadata": {},
     "output_type": "execute_result"
    }
   ],
   "source": [
    "# first country to have a GDP per capita greater than $100,000\n",
    "#solution 1\n",
    "over1k= gdp_fn[gdp_fn[\"GDP_Per_Capita\"]>= 100000]\n",
    "over1k.sort_values(by=['Year'], ascending =True)"
   ]
  },
  {
   "cell_type": "code",
   "execution_count": 27,
   "id": "c8ed692f-fedb-4440-b1c1-21adf9566bf7",
   "metadata": {},
   "outputs": [
    {
     "data": {
      "text/html": [
       "<div>\n",
       "<style scoped>\n",
       "    .dataframe tbody tr th:only-of-type {\n",
       "        vertical-align: middle;\n",
       "    }\n",
       "\n",
       "    .dataframe tbody tr th {\n",
       "        vertical-align: top;\n",
       "    }\n",
       "\n",
       "    .dataframe thead th {\n",
       "        text-align: right;\n",
       "    }\n",
       "</style>\n",
       "<table border=\"1\" class=\"dataframe\">\n",
       "  <thead>\n",
       "    <tr style=\"text-align: right;\">\n",
       "      <th></th>\n",
       "      <th>Country</th>\n",
       "      <th>Year</th>\n",
       "      <th>GDP_Per_Capita</th>\n",
       "    </tr>\n",
       "  </thead>\n",
       "  <tbody>\n",
       "    <tr>\n",
       "      <th>7302</th>\n",
       "      <td>United Arab Emirates</td>\n",
       "      <td>1990</td>\n",
       "      <td>105893.626059</td>\n",
       "    </tr>\n",
       "    <tr>\n",
       "      <th>4178</th>\n",
       "      <td>Luxembourg</td>\n",
       "      <td>1990</td>\n",
       "      <td>70860.819124</td>\n",
       "    </tr>\n",
       "    <tr>\n",
       "      <th>904</th>\n",
       "      <td>Brunei</td>\n",
       "      <td>1990</td>\n",
       "      <td>70358.724094</td>\n",
       "    </tr>\n",
       "    <tr>\n",
       "      <th>711</th>\n",
       "      <td>Bermuda</td>\n",
       "      <td>1990</td>\n",
       "      <td>65961.406278</td>\n",
       "    </tr>\n",
       "    <tr>\n",
       "      <th>6775</th>\n",
       "      <td>Switzerland</td>\n",
       "      <td>1990</td>\n",
       "      <td>56232.026080</td>\n",
       "    </tr>\n",
       "    <tr>\n",
       "      <th>...</th>\n",
       "      <td>...</td>\n",
       "      <td>...</td>\n",
       "      <td>...</td>\n",
       "    </tr>\n",
       "    <tr>\n",
       "      <th>4822</th>\n",
       "      <td>Mozambique</td>\n",
       "      <td>2022</td>\n",
       "      <td>1243.073638</td>\n",
       "    </tr>\n",
       "    <tr>\n",
       "      <th>6271</th>\n",
       "      <td>Somalia</td>\n",
       "      <td>2022</td>\n",
       "      <td>1155.275773</td>\n",
       "    </tr>\n",
       "    <tr>\n",
       "      <th>1628</th>\n",
       "      <td>Dem. Rep. Congo</td>\n",
       "      <td>2022</td>\n",
       "      <td>1132.654233</td>\n",
       "    </tr>\n",
       "    <tr>\n",
       "      <th>1215</th>\n",
       "      <td>Central African Republic</td>\n",
       "      <td>2022</td>\n",
       "      <td>819.192343</td>\n",
       "    </tr>\n",
       "    <tr>\n",
       "      <th>971</th>\n",
       "      <td>Burundi</td>\n",
       "      <td>2022</td>\n",
       "      <td>708.178317</td>\n",
       "    </tr>\n",
       "  </tbody>\n",
       "</table>\n",
       "<p>7662 rows × 3 columns</p>\n",
       "</div>"
      ],
      "text/plain": [
       "                       Country  Year  GDP_Per_Capita\n",
       "7302      United Arab Emirates  1990   105893.626059\n",
       "4178                Luxembourg  1990    70860.819124\n",
       "904                     Brunei  1990    70358.724094\n",
       "711                    Bermuda  1990    65961.406278\n",
       "6775               Switzerland  1990    56232.026080\n",
       "...                        ...   ...             ...\n",
       "4822                Mozambique  2022     1243.073638\n",
       "6271                   Somalia  2022     1155.275773\n",
       "1628           Dem. Rep. Congo  2022     1132.654233\n",
       "1215  Central African Republic  2022      819.192343\n",
       "971                    Burundi  2022      708.178317\n",
       "\n",
       "[7662 rows x 3 columns]"
      ]
     },
     "execution_count": 27,
     "metadata": {},
     "output_type": "execute_result"
    }
   ],
   "source": [
    "# first country to have a GDP per capita greater than $100,000\n",
    "#solution 2\n",
    "gdp_fn.sort_values(by=['Year','GDP_Per_Capita'],ascending=([True, False]))"
   ]
  },
  {
   "cell_type": "markdown",
   "id": "2f4319ef-45e3-4e7e-a074-ebd416aa95a0",
   "metadata": {},
   "source": [
    "#### Answer: United Arab Emirates in 1990 was the first country to have a GDP per capita greater than 100,000"
   ]
  },
  {
   "cell_type": "markdown",
   "id": "6909be91-10a5-4198-a314-9fdabc2fa13d",
   "metadata": {},
   "source": [
    "# Q12"
   ]
  },
  {
   "cell_type": "code",
   "execution_count": 28,
   "id": "1ad92c32-503b-43b5-bbda-bb8a0197e511",
   "metadata": {},
   "outputs": [
    {
     "data": {
      "text/html": [
       "<div>\n",
       "<style scoped>\n",
       "    .dataframe tbody tr th:only-of-type {\n",
       "        vertical-align: middle;\n",
       "    }\n",
       "\n",
       "    .dataframe tbody tr th {\n",
       "        vertical-align: top;\n",
       "    }\n",
       "\n",
       "    .dataframe thead th {\n",
       "        text-align: right;\n",
       "    }\n",
       "</style>\n",
       "<table border=\"1\" class=\"dataframe\">\n",
       "  <thead>\n",
       "    <tr style=\"text-align: right;\">\n",
       "      <th></th>\n",
       "      <th>Country</th>\n",
       "      <th>Year</th>\n",
       "      <th>GDP_Per_Capita</th>\n",
       "    </tr>\n",
       "  </thead>\n",
       "  <tbody>\n",
       "    <tr>\n",
       "      <th>4148</th>\n",
       "      <td>Luxembourg</td>\n",
       "      <td>2020</td>\n",
       "      <td>111751.314751</td>\n",
       "    </tr>\n",
       "  </tbody>\n",
       "</table>\n",
       "</div>"
      ],
      "text/plain": [
       "         Country  Year  GDP_Per_Capita\n",
       "4148  Luxembourg  2020   111751.314751"
      ]
     },
     "execution_count": 28,
     "metadata": {},
     "output_type": "execute_result"
    }
   ],
   "source": [
    "# add country name\n",
    "\n",
    "#max GDP per capita value in 2020\n",
    "max_gdp_2020= gdp_fn[gdp_fn[\"Year\"]==2020]\n",
    "max_gdp_2020.sort_values(by =['GDP_Per_Capita'],ascending=False).head(1)"
   ]
  },
  {
   "cell_type": "markdown",
   "id": "190704d3",
   "metadata": {},
   "source": [
    "#### Answer: Luxembourg has the highest GDP per capita in 2020"
   ]
  },
  {
   "cell_type": "code",
   "execution_count": 29,
   "id": "230afc95-3c23-461f-bf2e-c5f8de900f85",
   "metadata": {},
   "outputs": [],
   "source": [
    "lux= gdp_fn[gdp_fn[\"Country\"]==\"Luxembourg\"]\n",
    "#sns.barplot(x =\"Year\", y=\"GDP_Per_Capita\", data=lux)"
   ]
  },
  {
   "cell_type": "markdown",
   "id": "70155b44",
   "metadata": {},
   "source": [
    "# Plot showing Luxembourg's GDP per capita over time"
   ]
  },
  {
   "cell_type": "code",
   "execution_count": 30,
   "id": "8ea86e5e-3b7a-4e51-a22b-c44fb9a3b887",
   "metadata": {},
   "outputs": [],
   "source": [
    "#Luxemborg GDP per capita over time  \n",
    "# highest GDP in 2007\n",
    "#scatterplot with trend line\n",
    "#sns.regplot(x=lux[\"Year\"], y=lux[\"GDP_Per_Capita\"])"
   ]
  },
  {
   "cell_type": "code",
   "execution_count": 31,
   "id": "40cd824f",
   "metadata": {},
   "outputs": [
    {
     "name": "stderr",
     "output_type": "stream",
     "text": [
      "C:\\Users\\ronej\\anaconda3\\Lib\\site-packages\\seaborn\\_oldcore.py:1119: FutureWarning: use_inf_as_na option is deprecated and will be removed in a future version. Convert inf values to NaN before operating instead.\n",
      "  with pd.option_context('mode.use_inf_as_na', True):\n",
      "C:\\Users\\ronej\\anaconda3\\Lib\\site-packages\\seaborn\\_oldcore.py:1119: FutureWarning: use_inf_as_na option is deprecated and will be removed in a future version. Convert inf values to NaN before operating instead.\n",
      "  with pd.option_context('mode.use_inf_as_na', True):\n"
     ]
    },
    {
     "data": {
      "image/png": "[encoded data removed]",
      "text/plain": [
       "<Figure size 640x480 with 1 Axes>"
      ]
     },
     "metadata": {},
     "output_type": "display_data"
    }
   ],
   "source": [
    "sns.lineplot(data=lux, x=\"Year\", y=\"GDP_Per_Capita\");"
   ]
  },
  {
   "cell_type": "code",
   "execution_count": 32,
   "id": "c7ad165b-806b-4870-93ce-e64436b77c6a",
   "metadata": {},
   "outputs": [],
   "source": [
    "#not a good plot to represent this\n",
    "#sns.violinplot(x=lux[\"Year\"], y=lux[\"GDP_Per_Capita\"])"
   ]
  },
  {
   "cell_type": "markdown",
   "id": "b7406447-0615-4c15-b0a4-7746248ac68d",
   "metadata": {
    "jp-MarkdownHeadingCollapsed": true
   },
   "source": [
    "# Q 13"
   ]
  },
  {
   "cell_type": "code",
   "execution_count": 33,
   "id": "b115b971-4234-4c91-a76a-eb619809caf0",
   "metadata": {},
   "outputs": [
    {
     "data": {
      "text/html": [
       "<div>\n",
       "<style scoped>\n",
       "    .dataframe tbody tr th:only-of-type {\n",
       "        vertical-align: middle;\n",
       "    }\n",
       "\n",
       "    .dataframe tbody tr th {\n",
       "        vertical-align: top;\n",
       "    }\n",
       "\n",
       "    .dataframe thead th {\n",
       "        text-align: right;\n",
       "    }\n",
       "</style>\n",
       "<table border=\"1\" class=\"dataframe\">\n",
       "  <thead>\n",
       "    <tr style=\"text-align: right;\">\n",
       "      <th></th>\n",
       "      <th>Country</th>\n",
       "      <th>Year</th>\n",
       "      <th>GDP_Per_Capita</th>\n",
       "    </tr>\n",
       "  </thead>\n",
       "  <tbody>\n",
       "    <tr>\n",
       "      <th>973</th>\n",
       "      <td>Burundi</td>\n",
       "      <td>2020</td>\n",
       "      <td>711.355263</td>\n",
       "    </tr>\n",
       "    <tr>\n",
       "      <th>1217</th>\n",
       "      <td>Central African Republic</td>\n",
       "      <td>2020</td>\n",
       "      <td>847.765012</td>\n",
       "    </tr>\n",
       "    <tr>\n",
       "      <th>1630</th>\n",
       "      <td>Dem. Rep. Congo</td>\n",
       "      <td>2020</td>\n",
       "      <td>1044.071214</td>\n",
       "    </tr>\n",
       "    <tr>\n",
       "      <th>6273</th>\n",
       "      <td>Somalia</td>\n",
       "      <td>2020</td>\n",
       "      <td>1127.418534</td>\n",
       "    </tr>\n",
       "    <tr>\n",
       "      <th>5074</th>\n",
       "      <td>Niger</td>\n",
       "      <td>2020</td>\n",
       "      <td>1214.546556</td>\n",
       "    </tr>\n",
       "    <tr>\n",
       "      <th>...</th>\n",
       "      <td>...</td>\n",
       "      <td>...</td>\n",
       "      <td>...</td>\n",
       "    </tr>\n",
       "    <tr>\n",
       "      <th>681</th>\n",
       "      <td>Bermuda</td>\n",
       "      <td>2020</td>\n",
       "      <td>76117.804744</td>\n",
       "    </tr>\n",
       "    <tr>\n",
       "      <th>5746</th>\n",
       "      <td>Qatar</td>\n",
       "      <td>2020</td>\n",
       "      <td>89019.069857</td>\n",
       "    </tr>\n",
       "    <tr>\n",
       "      <th>3279</th>\n",
       "      <td>Ireland</td>\n",
       "      <td>2020</td>\n",
       "      <td>91356.855054</td>\n",
       "    </tr>\n",
       "    <tr>\n",
       "      <th>6108</th>\n",
       "      <td>Singapore</td>\n",
       "      <td>2020</td>\n",
       "      <td>94910.101431</td>\n",
       "    </tr>\n",
       "    <tr>\n",
       "      <th>4148</th>\n",
       "      <td>Luxembourg</td>\n",
       "      <td>2020</td>\n",
       "      <td>111751.314751</td>\n",
       "    </tr>\n",
       "  </tbody>\n",
       "</table>\n",
       "<p>242 rows × 3 columns</p>\n",
       "</div>"
      ],
      "text/plain": [
       "                       Country  Year  GDP_Per_Capita\n",
       "973                    Burundi  2020      711.355263\n",
       "1217  Central African Republic  2020      847.765012\n",
       "1630           Dem. Rep. Congo  2020     1044.071214\n",
       "6273                   Somalia  2020     1127.418534\n",
       "5074                     Niger  2020     1214.546556\n",
       "...                        ...   ...             ...\n",
       "681                    Bermuda  2020    76117.804744\n",
       "5746                     Qatar  2020    89019.069857\n",
       "3279                   Ireland  2020    91356.855054\n",
       "6108                 Singapore  2020    94910.101431\n",
       "4148                Luxembourg  2020   111751.314751\n",
       "\n",
       "[242 rows x 3 columns]"
      ]
     },
     "execution_count": 33,
     "metadata": {},
     "output_type": "execute_result"
    }
   ],
   "source": [
    "# add country name\n",
    "#Burundi\n",
    "#min GDP per capita value in 2020\n",
    "min_gdp_2020= gdp_fn[gdp_fn[\"Year\"]==2020]\n",
    "min_gdp_2020.sort_values(by =['GDP_Per_Capita'],ascending=True)"
   ]
  },
  {
   "cell_type": "markdown",
   "id": "24745f0f",
   "metadata": {},
   "source": [
    "#### Burundi's GDP per capita over time"
   ]
  },
  {
   "cell_type": "code",
   "execution_count": 34,
   "id": "db70caef",
   "metadata": {
    "scrolled": false
   },
   "outputs": [
    {
     "data": {
      "text/plain": [
       "<Axes: xlabel='Year', ylabel='GDP_Per_Capita'>"
      ]
     },
     "execution_count": 34,
     "metadata": {},
     "output_type": "execute_result"
    },
    {
     "data": {
      "image/png": "[encoded data removed]",
      "text/plain": [
       "<Figure size 640x480 with 1 Axes>"
      ]
     },
     "metadata": {},
     "output_type": "display_data"
    }
   ],
   "source": [
    "bur= gdp_fn[gdp_fn[\"Country\"]==\"Burundi\"]\n",
    "\n",
    "sns.regplot(x=bur[\"Year\"], y=bur[\"GDP_Per_Capita\"])"
   ]
  },
  {
   "cell_type": "markdown",
   "id": "82bc87c5-d5c4-483b-91cc-e0502b1d75a9",
   "metadata": {},
   "source": [
    "# Bonus"
   ]
  },
  {
   "cell_type": "code",
   "execution_count": 35,
   "id": "d7d4b0a5-5f8b-4212-80e4-10862196bd52",
   "metadata": {},
   "outputs": [
    {
     "data": {
      "text/html": [
       "<div>\n",
       "<style scoped>\n",
       "    .dataframe tbody tr th:only-of-type {\n",
       "        vertical-align: middle;\n",
       "    }\n",
       "\n",
       "    .dataframe tbody tr th {\n",
       "        vertical-align: top;\n",
       "    }\n",
       "\n",
       "    .dataframe thead th {\n",
       "        text-align: right;\n",
       "    }\n",
       "</style>\n",
       "<table border=\"1\" class=\"dataframe\">\n",
       "  <thead>\n",
       "    <tr style=\"text-align: right;\">\n",
       "      <th></th>\n",
       "      <th>Country</th>\n",
       "      <th>Year</th>\n",
       "      <th>GDP_Per_Capita</th>\n",
       "    </tr>\n",
       "  </thead>\n",
       "  <tbody>\n",
       "    <tr>\n",
       "      <th>4854</th>\n",
       "      <td>Mozambique</td>\n",
       "      <td>1990</td>\n",
       "      <td>460.123697</td>\n",
       "    </tr>\n",
       "    <tr>\n",
       "      <th>4887</th>\n",
       "      <td>Myanmar</td>\n",
       "      <td>1990</td>\n",
       "      <td>581.613311</td>\n",
       "    </tr>\n",
       "    <tr>\n",
       "      <th>2127</th>\n",
       "      <td>Ethiopia</td>\n",
       "      <td>1990</td>\n",
       "      <td>767.170419</td>\n",
       "    </tr>\n",
       "    <tr>\n",
       "      <th>7236</th>\n",
       "      <td>Uganda</td>\n",
       "      <td>1990</td>\n",
       "      <td>901.660809</td>\n",
       "    </tr>\n",
       "    <tr>\n",
       "      <th>5865</th>\n",
       "      <td>Rwanda</td>\n",
       "      <td>1990</td>\n",
       "      <td>933.013443</td>\n",
       "    </tr>\n",
       "    <tr>\n",
       "      <th>...</th>\n",
       "      <td>...</td>\n",
       "      <td>...</td>\n",
       "      <td>...</td>\n",
       "    </tr>\n",
       "    <tr>\n",
       "      <th>6775</th>\n",
       "      <td>Switzerland</td>\n",
       "      <td>1990</td>\n",
       "      <td>56232.026080</td>\n",
       "    </tr>\n",
       "    <tr>\n",
       "      <th>711</th>\n",
       "      <td>Bermuda</td>\n",
       "      <td>1990</td>\n",
       "      <td>65961.406278</td>\n",
       "    </tr>\n",
       "    <tr>\n",
       "      <th>904</th>\n",
       "      <td>Brunei</td>\n",
       "      <td>1990</td>\n",
       "      <td>70358.724094</td>\n",
       "    </tr>\n",
       "    <tr>\n",
       "      <th>4178</th>\n",
       "      <td>Luxembourg</td>\n",
       "      <td>1990</td>\n",
       "      <td>70860.819124</td>\n",
       "    </tr>\n",
       "    <tr>\n",
       "      <th>7302</th>\n",
       "      <td>United Arab Emirates</td>\n",
       "      <td>1990</td>\n",
       "      <td>105893.626059</td>\n",
       "    </tr>\n",
       "  </tbody>\n",
       "</table>\n",
       "<p>207 rows × 3 columns</p>\n",
       "</div>"
      ],
      "text/plain": [
       "                   Country  Year  GDP_Per_Capita\n",
       "4854            Mozambique  1990      460.123697\n",
       "4887               Myanmar  1990      581.613311\n",
       "2127              Ethiopia  1990      767.170419\n",
       "7236                Uganda  1990      901.660809\n",
       "5865                Rwanda  1990      933.013443\n",
       "...                    ...   ...             ...\n",
       "6775           Switzerland  1990    56232.026080\n",
       "711                Bermuda  1990    65961.406278\n",
       "904                 Brunei  1990    70358.724094\n",
       "4178            Luxembourg  1990    70860.819124\n",
       "7302  United Arab Emirates  1990   105893.626059\n",
       "\n",
       "[207 rows x 3 columns]"
      ]
     },
     "execution_count": 35,
     "metadata": {},
     "output_type": "execute_result"
    }
   ],
   "source": [
    "min_gdp_1990= gdp_fn[gdp_fn[\"Year\"]==1990]\n",
    "min_gdp_1990.sort_values(by =['GDP_Per_Capita'],ascending=True)\n"
   ]
  },
  {
   "cell_type": "code",
   "execution_count": 36,
   "id": "ba424d32-b88e-44dc-bc5b-d9fcfe7bd78a",
   "metadata": {},
   "outputs": [],
   "source": [
    "# how to merge 2 data frames: mergedStuff = pd.merge(df1, df2, on=['Name'], how='inner')"
   ]
  },
  {
   "cell_type": "markdown",
   "id": "a518213c-9baf-4b46-a944-408b72d0ff6e",
   "metadata": {},
   "source": [
    "#not right\n",
    "less= min_gdp_1990[\"GDP_Per_Capita\"]> min_gdp_2020[\"GDP_Per_Capita\"]"
   ]
  },
  {
   "cell_type": "code",
   "execution_count": 37,
   "id": "e38c95ee-6b44-4f56-a274-0f2aed9535de",
   "metadata": {},
   "outputs": [],
   "source": [
    "#inner join\n",
    "mergedy = min_gdp_1990.merge(min_gdp_2020, on = ['Country'], how='inner')\n"
   ]
  },
  {
   "cell_type": "markdown",
   "id": "17962ae9",
   "metadata": {},
   "source": [
    "# Countries with lower GDP per capita in 2020 than 1990"
   ]
  },
  {
   "cell_type": "code",
   "execution_count": 38,
   "id": "5dedc173-db87-4790-899c-b3df48644eed",
   "metadata": {},
   "outputs": [
    {
     "data": {
      "text/html": [
       "<div>\n",
       "<style scoped>\n",
       "    .dataframe tbody tr th:only-of-type {\n",
       "        vertical-align: middle;\n",
       "    }\n",
       "\n",
       "    .dataframe tbody tr th {\n",
       "        vertical-align: top;\n",
       "    }\n",
       "\n",
       "    .dataframe thead th {\n",
       "        text-align: right;\n",
       "    }\n",
       "</style>\n",
       "<table border=\"1\" class=\"dataframe\">\n",
       "  <thead>\n",
       "    <tr style=\"text-align: right;\">\n",
       "      <th></th>\n",
       "      <th>Country</th>\n",
       "      <th>Year_x</th>\n",
       "      <th>GDP_Per_Capita_x</th>\n",
       "      <th>Year_y</th>\n",
       "      <th>GDP_Per_Capita_y</th>\n",
       "    </tr>\n",
       "  </thead>\n",
       "  <tbody>\n",
       "    <tr>\n",
       "      <th>15</th>\n",
       "      <td>Barbados</td>\n",
       "      <td>1990</td>\n",
       "      <td>14097.395550</td>\n",
       "      <td>2020</td>\n",
       "      <td>13805.777541</td>\n",
       "    </tr>\n",
       "    <tr>\n",
       "      <th>25</th>\n",
       "      <td>Brunei</td>\n",
       "      <td>1990</td>\n",
       "      <td>70358.724094</td>\n",
       "      <td>2020</td>\n",
       "      <td>61603.550804</td>\n",
       "    </tr>\n",
       "    <tr>\n",
       "      <th>28</th>\n",
       "      <td>Burundi</td>\n",
       "      <td>1990</td>\n",
       "      <td>1175.155086</td>\n",
       "      <td>2020</td>\n",
       "      <td>711.355263</td>\n",
       "    </tr>\n",
       "    <tr>\n",
       "      <th>34</th>\n",
       "      <td>Central African Republic</td>\n",
       "      <td>1990</td>\n",
       "      <td>1200.613390</td>\n",
       "      <td>2020</td>\n",
       "      <td>847.765012</td>\n",
       "    </tr>\n",
       "    <tr>\n",
       "      <th>41</th>\n",
       "      <td>Congo</td>\n",
       "      <td>1990</td>\n",
       "      <td>5007.319245</td>\n",
       "      <td>2020</td>\n",
       "      <td>3384.654335</td>\n",
       "    </tr>\n",
       "    <tr>\n",
       "      <th>45</th>\n",
       "      <td>Dem. Rep. Congo</td>\n",
       "      <td>1990</td>\n",
       "      <td>1750.169739</td>\n",
       "      <td>2020</td>\n",
       "      <td>1044.071214</td>\n",
       "    </tr>\n",
       "    <tr>\n",
       "      <th>66</th>\n",
       "      <td>Fragile and conflict affected situations</td>\n",
       "      <td>1990</td>\n",
       "      <td>4864.814075</td>\n",
       "      <td>2020</td>\n",
       "      <td>4357.621312</td>\n",
       "    </tr>\n",
       "    <tr>\n",
       "      <th>68</th>\n",
       "      <td>Gabon</td>\n",
       "      <td>1990</td>\n",
       "      <td>17559.006114</td>\n",
       "      <td>2020</td>\n",
       "      <td>13903.288955</td>\n",
       "    </tr>\n",
       "    <tr>\n",
       "      <th>76</th>\n",
       "      <td>Guinea-Bissau</td>\n",
       "      <td>1990</td>\n",
       "      <td>1998.173206</td>\n",
       "      <td>2020</td>\n",
       "      <td>1803.630591</td>\n",
       "    </tr>\n",
       "    <tr>\n",
       "      <th>78</th>\n",
       "      <td>Haiti</td>\n",
       "      <td>1990</td>\n",
       "      <td>3612.815105</td>\n",
       "      <td>2020</td>\n",
       "      <td>2970.462845</td>\n",
       "    </tr>\n",
       "    <tr>\n",
       "      <th>99</th>\n",
       "      <td>Kiribati</td>\n",
       "      <td>1990</td>\n",
       "      <td>2045.272278</td>\n",
       "      <td>2020</td>\n",
       "      <td>1897.061922</td>\n",
       "    </tr>\n",
       "    <tr>\n",
       "      <th>101</th>\n",
       "      <td>Kyrgyz Republic</td>\n",
       "      <td>1990</td>\n",
       "      <td>5158.317569</td>\n",
       "      <td>2020</td>\n",
       "      <td>4726.196559</td>\n",
       "    </tr>\n",
       "    <tr>\n",
       "      <th>115</th>\n",
       "      <td>Madagascar</td>\n",
       "      <td>1990</td>\n",
       "      <td>1808.743539</td>\n",
       "      <td>2020</td>\n",
       "      <td>1436.206950</td>\n",
       "    </tr>\n",
       "    <tr>\n",
       "      <th>183</th>\n",
       "      <td>Tajikistan</td>\n",
       "      <td>1990</td>\n",
       "      <td>3990.869035</td>\n",
       "      <td>2020</td>\n",
       "      <td>3651.942660</td>\n",
       "    </tr>\n",
       "    <tr>\n",
       "      <th>186</th>\n",
       "      <td>The Bahamas</td>\n",
       "      <td>1990</td>\n",
       "      <td>35674.455631</td>\n",
       "      <td>2020</td>\n",
       "      <td>25780.414176</td>\n",
       "    </tr>\n",
       "    <tr>\n",
       "      <th>187</th>\n",
       "      <td>The Gambia</td>\n",
       "      <td>1990</td>\n",
       "      <td>2080.158085</td>\n",
       "      <td>2020</td>\n",
       "      <td>2042.620289</td>\n",
       "    </tr>\n",
       "    <tr>\n",
       "      <th>195</th>\n",
       "      <td>Ukraine</td>\n",
       "      <td>1990</td>\n",
       "      <td>16428.480469</td>\n",
       "      <td>2020</td>\n",
       "      <td>12407.790039</td>\n",
       "    </tr>\n",
       "    <tr>\n",
       "      <th>196</th>\n",
       "      <td>United Arab Emirates</td>\n",
       "      <td>1990</td>\n",
       "      <td>105893.626059</td>\n",
       "      <td>2020</td>\n",
       "      <td>67668.286641</td>\n",
       "    </tr>\n",
       "    <tr>\n",
       "      <th>206</th>\n",
       "      <td>Zimbabwe</td>\n",
       "      <td>1990</td>\n",
       "      <td>2704.757299</td>\n",
       "      <td>2020</td>\n",
       "      <td>1990.319419</td>\n",
       "    </tr>\n",
       "  </tbody>\n",
       "</table>\n",
       "</div>"
      ],
      "text/plain": [
       "                                      Country  Year_x  GDP_Per_Capita_x  \\\n",
       "15                                   Barbados    1990      14097.395550   \n",
       "25                                     Brunei    1990      70358.724094   \n",
       "28                                    Burundi    1990       1175.155086   \n",
       "34                   Central African Republic    1990       1200.613390   \n",
       "41                                      Congo    1990       5007.319245   \n",
       "45                            Dem. Rep. Congo    1990       1750.169739   \n",
       "66   Fragile and conflict affected situations    1990       4864.814075   \n",
       "68                                      Gabon    1990      17559.006114   \n",
       "76                              Guinea-Bissau    1990       1998.173206   \n",
       "78                                      Haiti    1990       3612.815105   \n",
       "99                                   Kiribati    1990       2045.272278   \n",
       "101                           Kyrgyz Republic    1990       5158.317569   \n",
       "115                                Madagascar    1990       1808.743539   \n",
       "183                                Tajikistan    1990       3990.869035   \n",
       "186                               The Bahamas    1990      35674.455631   \n",
       "187                                The Gambia    1990       2080.158085   \n",
       "195                                   Ukraine    1990      16428.480469   \n",
       "196                      United Arab Emirates    1990     105893.626059   \n",
       "206                                  Zimbabwe    1990       2704.757299   \n",
       "\n",
       "     Year_y  GDP_Per_Capita_y  \n",
       "15     2020      13805.777541  \n",
       "25     2020      61603.550804  \n",
       "28     2020        711.355263  \n",
       "34     2020        847.765012  \n",
       "41     2020       3384.654335  \n",
       "45     2020       1044.071214  \n",
       "66     2020       4357.621312  \n",
       "68     2020      13903.288955  \n",
       "76     2020       1803.630591  \n",
       "78     2020       2970.462845  \n",
       "99     2020       1897.061922  \n",
       "101    2020       4726.196559  \n",
       "115    2020       1436.206950  \n",
       "183    2020       3651.942660  \n",
       "186    2020      25780.414176  \n",
       "187    2020       2042.620289  \n",
       "195    2020      12407.790039  \n",
       "196    2020      67668.286641  \n",
       "206    2020       1990.319419  "
      ]
     },
     "execution_count": 38,
     "metadata": {},
     "output_type": "execute_result"
    }
   ],
   "source": [
    "# countries with lower GDP per capita in 2020 than in 1990\n",
    "mergedy[mergedy['GDP_Per_Capita_x']> mergedy['GDP_Per_Capita_y']]"
   ]
  },
  {
   "cell_type": "markdown",
   "id": "1d287b00-de35-4b86-8ef0-5c88598d48b6",
   "metadata": {},
   "source": [
    "#### Answer: It is true that in general, countries had a higher GDP per capita in 2020 than in 1990"
   ]
  },
  {
   "cell_type": "markdown",
   "id": "da05b127-e8ea-47b4-b918-9da6712ce6bf",
   "metadata": {},
   "source": [
    "# Q14"
   ]
  },
  {
   "cell_type": "code",
   "execution_count": 39,
   "id": "a370a5a9-5db3-46d4-a75c-17a8431a373f",
   "metadata": {},
   "outputs": [
    {
     "data": {
      "text/html": [
       "<div>\n",
       "<style scoped>\n",
       "    .dataframe tbody tr th:only-of-type {\n",
       "        vertical-align: middle;\n",
       "    }\n",
       "\n",
       "    .dataframe tbody tr th {\n",
       "        vertical-align: top;\n",
       "    }\n",
       "\n",
       "    .dataframe thead th {\n",
       "        text-align: right;\n",
       "    }\n",
       "</style>\n",
       "<table border=\"1\" class=\"dataframe\">\n",
       "  <thead>\n",
       "    <tr style=\"text-align: right;\">\n",
       "      <th></th>\n",
       "      <th>Country or Area</th>\n",
       "      <th>Year</th>\n",
       "      <th>Value</th>\n",
       "      <th>Value Footnotes</th>\n",
       "    </tr>\n",
       "  </thead>\n",
       "  <tbody>\n",
       "    <tr>\n",
       "      <th>0</th>\n",
       "      <td>Afghanistan</td>\n",
       "      <td>2014</td>\n",
       "      <td>6.390000</td>\n",
       "      <td>NaN</td>\n",
       "    </tr>\n",
       "    <tr>\n",
       "      <th>1</th>\n",
       "      <td>Afghanistan</td>\n",
       "      <td>2013</td>\n",
       "      <td>5.900000</td>\n",
       "      <td>NaN</td>\n",
       "    </tr>\n",
       "    <tr>\n",
       "      <th>2</th>\n",
       "      <td>Afghanistan</td>\n",
       "      <td>2012</td>\n",
       "      <td>5.454545</td>\n",
       "      <td>NaN</td>\n",
       "    </tr>\n",
       "    <tr>\n",
       "      <th>3</th>\n",
       "      <td>Afghanistan</td>\n",
       "      <td>2011</td>\n",
       "      <td>5.000000</td>\n",
       "      <td>NaN</td>\n",
       "    </tr>\n",
       "    <tr>\n",
       "      <th>4</th>\n",
       "      <td>Afghanistan</td>\n",
       "      <td>2010</td>\n",
       "      <td>4.000000</td>\n",
       "      <td>NaN</td>\n",
       "    </tr>\n",
       "    <tr>\n",
       "      <th>...</th>\n",
       "      <td>...</td>\n",
       "      <td>...</td>\n",
       "      <td>...</td>\n",
       "      <td>...</td>\n",
       "    </tr>\n",
       "    <tr>\n",
       "      <th>4490</th>\n",
       "      <td>Zimbabwe</td>\n",
       "      <td>1997</td>\n",
       "      <td>0.033080</td>\n",
       "      <td>NaN</td>\n",
       "    </tr>\n",
       "    <tr>\n",
       "      <th>4491</th>\n",
       "      <td>Zimbabwe</td>\n",
       "      <td>1996</td>\n",
       "      <td>0.016790</td>\n",
       "      <td>NaN</td>\n",
       "    </tr>\n",
       "    <tr>\n",
       "      <th>4492</th>\n",
       "      <td>Zimbabwe</td>\n",
       "      <td>1995</td>\n",
       "      <td>0.007684</td>\n",
       "      <td>NaN</td>\n",
       "    </tr>\n",
       "    <tr>\n",
       "      <th>4493</th>\n",
       "      <td>Zimbabwe</td>\n",
       "      <td>1994</td>\n",
       "      <td>0.001739</td>\n",
       "      <td>NaN</td>\n",
       "    </tr>\n",
       "    <tr>\n",
       "      <th>4494</th>\n",
       "      <td>Zimbabwe</td>\n",
       "      <td>1990</td>\n",
       "      <td>0.000000</td>\n",
       "      <td>NaN</td>\n",
       "    </tr>\n",
       "  </tbody>\n",
       "</table>\n",
       "<p>4495 rows × 4 columns</p>\n",
       "</div>"
      ],
      "text/plain": [
       "     Country or Area  Year     Value  Value Footnotes\n",
       "0        Afghanistan  2014  6.390000              NaN\n",
       "1        Afghanistan  2013  5.900000              NaN\n",
       "2        Afghanistan  2012  5.454545              NaN\n",
       "3        Afghanistan  2011  5.000000              NaN\n",
       "4        Afghanistan  2010  4.000000              NaN\n",
       "...              ...   ...       ...              ...\n",
       "4490        Zimbabwe  1997  0.033080              NaN\n",
       "4491        Zimbabwe  1996  0.016790              NaN\n",
       "4492        Zimbabwe  1995  0.007684              NaN\n",
       "4493        Zimbabwe  1994  0.001739              NaN\n",
       "4494        Zimbabwe  1990  0.000000              NaN\n",
       "\n",
       "[4495 rows x 4 columns]"
      ]
     },
     "execution_count": 39,
     "metadata": {},
     "output_type": "execute_result"
    }
   ],
   "source": [
    "#read in internet dataframe footnotes at the bottom of the csv file needed to be ignored by limiting what row it reads until\n",
    "internet_df = pd.read_csv('../data/internet_use.csv.csv',nrows=4495)\n",
    "\n",
    "#datatypes and structure of dataframe\n",
    "#internet_df.info()\n",
    "internet_df"
   ]
  },
  {
   "cell_type": "markdown",
   "id": "2b7b345e-8b88-4264-aadf-50e689698ad2",
   "metadata": {},
   "source": [
    "# Q15"
   ]
  },
  {
   "cell_type": "code",
   "execution_count": 40,
   "id": "9320287e-f1ed-4f52-9343-b42b920b12e2",
   "metadata": {},
   "outputs": [
    {
     "name": "stdout",
     "output_type": "stream",
     "text": [
      "     Country or Area  Year     Value\n",
      "0        Afghanistan  2014  6.390000\n",
      "1        Afghanistan  2013  5.900000\n",
      "2        Afghanistan  2012  5.454545\n",
      "3        Afghanistan  2011  5.000000\n",
      "4        Afghanistan  2010  4.000000\n",
      "...              ...   ...       ...\n",
      "4490        Zimbabwe  1997  0.033080\n",
      "4491        Zimbabwe  1996  0.016790\n",
      "4492        Zimbabwe  1995  0.007684\n",
      "4493        Zimbabwe  1994  0.001739\n",
      "4494        Zimbabwe  1990  0.000000\n",
      "\n",
      "[4495 rows x 3 columns]\n",
      "          Country  Year  Internet_Users_Pct\n",
      "0     Afghanistan  2014            6.390000\n",
      "1     Afghanistan  2013            5.900000\n",
      "2     Afghanistan  2012            5.454545\n",
      "3     Afghanistan  2011            5.000000\n",
      "4     Afghanistan  2010            4.000000\n",
      "...           ...   ...                 ...\n",
      "4490     Zimbabwe  1997            0.033080\n",
      "4491     Zimbabwe  1996            0.016790\n",
      "4492     Zimbabwe  1995            0.007684\n",
      "4493     Zimbabwe  1994            0.001739\n",
      "4494     Zimbabwe  1990            0.000000\n",
      "\n",
      "[4495 rows x 3 columns]\n"
     ]
    }
   ],
   "source": [
    "# drop a column and rename 2 columns\n",
    "a = internet_df.drop(columns=['Value Footnotes'])\n",
    "print(a)\n",
    "\n",
    "intdf= a.rename(columns={'Country or Area': 'Country', 'Value':'Internet_Users_Pct'})\n",
    "print(intdf)"
   ]
  },
  {
   "cell_type": "markdown",
   "id": "4ac363e0-08bf-4500-86b2-92ffd8a2faae",
   "metadata": {},
   "source": [
    "# Q16 "
   ]
  },
  {
   "cell_type": "code",
   "execution_count": 41,
   "id": "228e8533-9896-488c-92e8-f3e55d187c35",
   "metadata": {},
   "outputs": [
    {
     "name": "stdout",
     "output_type": "stream",
     "text": [
      "             Country  Counts\n",
      "0           Thailand      43\n",
      "1              Syria      43\n",
      "2               Togo      43\n",
      "3           Maldives      43\n",
      "4            Grenada      43\n",
      "5            Burundi      43\n",
      "6           Botswana      40\n",
      "7              Nepal      26\n",
      "8             Greece      25\n",
      "9     United Kingdom      25\n",
      "10   Korea (Rep. of)      25\n",
      "11            Brazil      25\n",
      "12           Germany      25\n",
      "13     United States      25\n",
      "14            Canada      25\n",
      "15             Spain      25\n",
      "16          Portugal      25\n",
      "17            France      25\n",
      "18           Finland      25\n",
      "19            Poland      25\n",
      "20      South Africa      25\n",
      "21       Switzerland      25\n",
      "22           Belgium      25\n",
      "23             Japan      25\n",
      "24             Italy      25\n",
      "25            Israel      25\n",
      "26           Ireland      25\n",
      "27       Netherlands      25\n",
      "28            Sweden      25\n",
      "29         Singapore      25\n",
      "30            Mexico      25\n",
      "31           Austria      25\n",
      "32           Denmark      25\n",
      "33           Iceland      25\n",
      "34            Norway      25\n",
      "35           Hungary      25\n",
      "36  Hong Kong, China      25\n",
      "37           Estonia      24\n",
      "38        Luxembourg      24\n",
      "39            Cyprus      24\n",
      "40        Costa Rica      24\n",
      "41            Russia      24\n",
      "42           Ecuador      24\n",
      "43             Chile      24\n",
      "44          Malaysia      24\n",
      "45       New Zealand      24\n",
      "46         Venezuela      24\n",
      "47             India      24\n",
      "48         Argentina      24\n",
      "49              Fiji      23\n",
      "50            Kuwait      23\n",
      "51             Egypt      23\n",
      "52          Slovenia      23\n",
      "53   Slovak Republic      23\n",
      "54           Romania      23\n",
      "55    Czech Republic      23\n",
      "56      Sierra Leone      23\n",
      "57            Turkey      23\n",
      "58  Marshall Islands      23\n",
      "59           Croatia      23\n"
     ]
    }
   ],
   "source": [
    "count_of_countryobs= intdf['Country'].value_counts().reset_index(name='Counts')\n",
    "print(count_of_countryobs.head(60))\n"
   ]
  },
  {
   "cell_type": "markdown",
   "id": "57ad2f57-b680-451f-8782-ac9a9b4726ab",
   "metadata": {},
   "source": [
    "#### Answer: Have data extending back to 1960, but no values in Internet_Users_Pct until 1990. Country count is not a reflection of internet usage"
   ]
  },
  {
   "cell_type": "markdown",
   "id": "259f8964-4635-4f41-bd63-a03402bf6a24",
   "metadata": {},
   "source": [
    "# Q17"
   ]
  },
  {
   "cell_type": "code",
   "execution_count": 42,
   "id": "2c9b8679-6159-411f-a6e3-602335665445",
   "metadata": {},
   "outputs": [],
   "source": [
    "nonzero= intdf[intdf.Internet_Users_Pct >0]\n",
    "\n",
    "sort= nonzero.sort_values([\"Year\",\"Internet_Users_Pct\"] , ascending=[True, True])\n",
    "#print(nonzero)\n",
    "#print(sort.head(60))"
   ]
  },
  {
   "cell_type": "markdown",
   "id": "1f84cf9f-d2f8-48a7-b7ba-27e460db39da",
   "metadata": {},
   "source": [
    "####  Answer: Belgium in 1990 (0.001007), but Australia in 1991 with a value of 1.097204 which is the first number greater than 0"
   ]
  },
  {
   "cell_type": "markdown",
   "id": "c3ccb430-449b-4305-8bd8-875bb5b65f23",
   "metadata": {},
   "source": [
    "# Q18 "
   ]
  },
  {
   "cell_type": "code",
   "execution_count": 43,
   "id": "45b0d1fa-20a8-4d5d-a02f-a23a043d2609",
   "metadata": {},
   "outputs": [],
   "source": [
    "# set equal to 2000 and 2014\n",
    "i2000= intdf[intdf[\"Year\"]==2000]\n",
    "i2014= intdf[intdf[\"Year\"]==2014]"
   ]
  },
  {
   "cell_type": "code",
   "execution_count": 44,
   "id": "2852c8dd-afdd-4632-bfbe-f29a7b8789f4",
   "metadata": {},
   "outputs": [
    {
     "name": "stdout",
     "output_type": "stream",
     "text": [
      "          Country  Year  Internet_Users_Pct\n",
      "0     Afghanistan  2014            6.390000\n",
      "15        Albania  2014           60.100000\n",
      "29        Albania  2000            0.114097\n",
      "36        Algeria  2014           18.090000\n",
      "50        Algeria  2000            0.491706\n",
      "...           ...   ...                 ...\n",
      "4445        Yemen  2000            0.082500\n",
      "4451       Zambia  2014           17.340000\n",
      "4465       Zambia  2000            0.191072\n",
      "4473     Zimbabwe  2014           19.890000\n",
      "4487     Zimbabwe  2000            0.401434\n",
      "\n",
      "[401 rows x 3 columns]\n"
     ]
    },
    {
     "data": {
      "image/png": "[encoded data removed]",
      "text/plain": [
       "<Figure size 640x480 with 1 Axes>"
      ]
     },
     "metadata": {},
     "output_type": "display_data"
    }
   ],
   "source": [
    "years=[2000,2014]\n",
    "intdist=intdf[intdf[\"Year\"].isin(years)]\n",
    "print(intdist)\n",
    "\n",
    "plt.scatter(intdist.Year, intdist.Internet_Users_Pct)\n",
    "plt.show()"
   ]
  },
  {
   "cell_type": "code",
   "execution_count": 45,
   "id": "60b79555",
   "metadata": {},
   "outputs": [
    {
     "data": {
      "text/plain": [
       "<Axes: xlabel='Year', ylabel='Internet_Users_Pct'>"
      ]
     },
     "execution_count": 45,
     "metadata": {},
     "output_type": "execute_result"
    },
    {
     "data": {
      "image/png": "[encoded data removed]",
      "text/plain": [
       "<Figure size 640x480 with 1 Axes>"
      ]
     },
     "metadata": {},
     "output_type": "display_data"
    }
   ],
   "source": [
    "sns.boxplot(x=intdist['Year'], y= intdist['Internet_Users_Pct'])"
   ]
  },
  {
   "cell_type": "markdown",
   "id": "b3a2227c",
   "metadata": {},
   "source": [
    "#### More internet usage in 2014 (higher percentage of users)"
   ]
  },
  {
   "cell_type": "markdown",
   "id": "5a0e238c-fd45-4646-a473-51113468631d",
   "metadata": {},
   "source": [
    "# Q19 "
   ]
  },
  {
   "cell_type": "code",
   "execution_count": 46,
   "id": "5642d3ab-4036-44bd-a01b-e22005b0f4b5",
   "metadata": {},
   "outputs": [
    {
     "name": "stdout",
     "output_type": "stream",
     "text": [
      "16\n"
     ]
    }
   ],
   "source": [
    "#For how many countries was the percentage of internet users below 5% in 2014?\n",
    "#i2014=intdf[intdf[\"Internet_Users_Pct\"]<5]\n",
    "\n",
    "i2014=intdf[intdf[\"Year\"]==2014]\n",
    "\n",
    "#i2014\n",
    "\n",
    "#count=i2014[\"Country\"].value_counts().reset_index(name='Counts')\n",
    "#print(count)\n",
    "\n",
    "#change i2014 to include Internet user column\n",
    "bel5= i2014[i2014[\"Internet_Users_Pct\"]<5]\n",
    "row_count= bel5.shape[0]\n",
    "print(row_count)"
   ]
  },
  {
   "cell_type": "markdown",
   "id": "b5699665-0fff-4dc3-b405-e7e24a8f20aa",
   "metadata": {},
   "source": [
    "#### Answer: 16 countries"
   ]
  },
  {
   "cell_type": "markdown",
   "id": "729e0f11-a574-43b7-9208-6d00bee75226",
   "metadata": {},
   "source": [
    "# Q20"
   ]
  },
  {
   "cell_type": "code",
   "execution_count": 47,
   "id": "6a2988ea-4478-4194-8bbf-7fbe9d9286d2",
   "metadata": {
    "scrolled": false
   },
   "outputs": [
    {
     "data": {
      "text/html": [
       "<div>\n",
       "<style scoped>\n",
       "    .dataframe tbody tr th:only-of-type {\n",
       "        vertical-align: middle;\n",
       "    }\n",
       "\n",
       "    .dataframe tbody tr th {\n",
       "        vertical-align: top;\n",
       "    }\n",
       "\n",
       "    .dataframe thead th {\n",
       "        text-align: right;\n",
       "    }\n",
       "</style>\n",
       "<table border=\"1\" class=\"dataframe\">\n",
       "  <thead>\n",
       "    <tr style=\"text-align: right;\">\n",
       "      <th></th>\n",
       "      <th>Country</th>\n",
       "      <th>Year</th>\n",
       "      <th>GDP_Per_Capita</th>\n",
       "      <th>Internet_Users_Pct</th>\n",
       "    </tr>\n",
       "  </thead>\n",
       "  <tbody>\n",
       "    <tr>\n",
       "      <th>0</th>\n",
       "      <td>Afghanistan</td>\n",
       "      <td>2021</td>\n",
       "      <td>1517.016266</td>\n",
       "      <td>NaN</td>\n",
       "    </tr>\n",
       "    <tr>\n",
       "      <th>1</th>\n",
       "      <td>Afghanistan</td>\n",
       "      <td>2020</td>\n",
       "      <td>1968.341002</td>\n",
       "      <td>NaN</td>\n",
       "    </tr>\n",
       "    <tr>\n",
       "      <th>2</th>\n",
       "      <td>Afghanistan</td>\n",
       "      <td>2019</td>\n",
       "      <td>2079.921861</td>\n",
       "      <td>NaN</td>\n",
       "    </tr>\n",
       "    <tr>\n",
       "      <th>3</th>\n",
       "      <td>Afghanistan</td>\n",
       "      <td>2018</td>\n",
       "      <td>2060.698973</td>\n",
       "      <td>NaN</td>\n",
       "    </tr>\n",
       "    <tr>\n",
       "      <th>4</th>\n",
       "      <td>Afghanistan</td>\n",
       "      <td>2017</td>\n",
       "      <td>2096.093111</td>\n",
       "      <td>NaN</td>\n",
       "    </tr>\n",
       "    <tr>\n",
       "      <th>...</th>\n",
       "      <td>...</td>\n",
       "      <td>...</td>\n",
       "      <td>...</td>\n",
       "      <td>...</td>\n",
       "    </tr>\n",
       "    <tr>\n",
       "      <th>8731</th>\n",
       "      <td>Yemen</td>\n",
       "      <td>1999</td>\n",
       "      <td>NaN</td>\n",
       "      <td>0.056629</td>\n",
       "    </tr>\n",
       "    <tr>\n",
       "      <th>8732</th>\n",
       "      <td>Yemen</td>\n",
       "      <td>1998</td>\n",
       "      <td>NaN</td>\n",
       "      <td>0.023323</td>\n",
       "    </tr>\n",
       "    <tr>\n",
       "      <th>8733</th>\n",
       "      <td>Yemen</td>\n",
       "      <td>1997</td>\n",
       "      <td>NaN</td>\n",
       "      <td>0.015025</td>\n",
       "    </tr>\n",
       "    <tr>\n",
       "      <th>8734</th>\n",
       "      <td>Yemen</td>\n",
       "      <td>1996</td>\n",
       "      <td>NaN</td>\n",
       "      <td>0.000621</td>\n",
       "    </tr>\n",
       "    <tr>\n",
       "      <th>8735</th>\n",
       "      <td>Yemen</td>\n",
       "      <td>1990</td>\n",
       "      <td>NaN</td>\n",
       "      <td>0.000000</td>\n",
       "    </tr>\n",
       "  </tbody>\n",
       "</table>\n",
       "<p>8736 rows × 4 columns</p>\n",
       "</div>"
      ],
      "text/plain": [
       "          Country  Year  GDP_Per_Capita  Internet_Users_Pct\n",
       "0     Afghanistan  2021     1517.016266                 NaN\n",
       "1     Afghanistan  2020     1968.341002                 NaN\n",
       "2     Afghanistan  2019     2079.921861                 NaN\n",
       "3     Afghanistan  2018     2060.698973                 NaN\n",
       "4     Afghanistan  2017     2096.093111                 NaN\n",
       "...           ...   ...             ...                 ...\n",
       "8731        Yemen  1999             NaN            0.056629\n",
       "8732        Yemen  1998             NaN            0.023323\n",
       "8733        Yemen  1997             NaN            0.015025\n",
       "8734        Yemen  1996             NaN            0.000621\n",
       "8735        Yemen  1990             NaN            0.000000\n",
       "\n",
       "[8736 rows x 4 columns]"
      ]
     },
     "execution_count": 47,
     "metadata": {},
     "output_type": "execute_result"
    }
   ],
   "source": [
    "#how to merge 2 data frames: mergedStuff = pd.merge(df1, df2, on=['Name'], how='inner')\n",
    "#mergedy = min_gdp_1990.merge(min_gdp_2020, on = ['Country'], how='inner')\n",
    "# year x correlates to internetdf and year y to GDPdf\n",
    "#gdp_and_internet_use = intdf.merge(gdp_fn, on =['Country'], how='outer')\n",
    "#gdp_and_internet_use\n",
    "\n",
    "gdp_and_internet_use= pd.merge(left=gdp_fn, right=intdf, how= 'outer')\n",
    "gdp_and_internet_use\n"
   ]
  },
  {
   "cell_type": "markdown",
   "id": "efc6cb75",
   "metadata": {},
   "source": [
    "# Q21"
   ]
  },
  {
   "cell_type": "code",
   "execution_count": 48,
   "id": "1041373c-0c74-4bb1-8e68-2c595fa35119",
   "metadata": {
    "scrolled": false
   },
   "outputs": [
    {
     "data": {
      "text/html": [
       "<div>\n",
       "<style scoped>\n",
       "    .dataframe tbody tr th:only-of-type {\n",
       "        vertical-align: middle;\n",
       "    }\n",
       "\n",
       "    .dataframe tbody tr th {\n",
       "        vertical-align: top;\n",
       "    }\n",
       "\n",
       "    .dataframe thead th {\n",
       "        text-align: right;\n",
       "    }\n",
       "</style>\n",
       "<table border=\"1\" class=\"dataframe\">\n",
       "  <thead>\n",
       "    <tr style=\"text-align: right;\">\n",
       "      <th></th>\n",
       "      <th>Country</th>\n",
       "      <th>Year</th>\n",
       "      <th>GDP_Per_Capita</th>\n",
       "      <th>Internet_Users_Pct</th>\n",
       "    </tr>\n",
       "  </thead>\n",
       "  <tbody>\n",
       "    <tr>\n",
       "      <th>2993</th>\n",
       "      <td>Iceland</td>\n",
       "      <td>2014</td>\n",
       "      <td>50450.741612</td>\n",
       "      <td>98.16</td>\n",
       "    </tr>\n",
       "    <tr>\n",
       "      <th>687</th>\n",
       "      <td>Bermuda</td>\n",
       "      <td>2014</td>\n",
       "      <td>77361.104881</td>\n",
       "      <td>96.80</td>\n",
       "    </tr>\n",
       "    <tr>\n",
       "      <th>5212</th>\n",
       "      <td>Norway</td>\n",
       "      <td>2014</td>\n",
       "      <td>62838.515727</td>\n",
       "      <td>96.30</td>\n",
       "    </tr>\n",
       "  </tbody>\n",
       "</table>\n",
       "</div>"
      ],
      "text/plain": [
       "      Country  Year  GDP_Per_Capita  Internet_Users_Pct\n",
       "2993  Iceland  2014    50450.741612               98.16\n",
       "687   Bermuda  2014    77361.104881               96.80\n",
       "5212   Norway  2014    62838.515727               96.30"
      ]
     },
     "execution_count": 48,
     "metadata": {},
     "output_type": "execute_result"
    }
   ],
   "source": [
    "#gdp_and_internet_use[gdp_and_internet_use[Internet_Users_Pct].value_sort\n",
    "gdpint2014 = gdp_and_internet_use[gdp_and_internet_use['Year']==2014]\n",
    "#Co= gdp_and_internet_use[gdp_and_internet_use[\"Year\"]==2014]\n",
    "Co = gdpint2014.sort_values(['Internet_Users_Pct'], ascending= False).head(3)\n",
    "Co"
   ]
  },
  {
   "cell_type": "markdown",
   "id": "da8bda7b",
   "metadata": {},
   "source": [
    "#### Answer: Iceland, Bermuda and Norway"
   ]
  },
  {
   "cell_type": "code",
   "execution_count": 49,
   "id": "20d4b6d8",
   "metadata": {},
   "outputs": [
    {
     "data": {
      "text/plain": [
       "['Iceland', 'Bermuda', 'Norway']"
      ]
     },
     "execution_count": 49,
     "metadata": {},
     "output_type": "execute_result"
    }
   ],
   "source": [
    "# cereate list pof 3 countries\n",
    "Co['Country'].tolist()"
   ]
  },
  {
   "cell_type": "code",
   "execution_count": 50,
   "id": "646ecea3",
   "metadata": {
    "scrolled": false
   },
   "outputs": [
    {
     "name": "stderr",
     "output_type": "stream",
     "text": [
      "C:\\Users\\ronej\\anaconda3\\Lib\\site-packages\\seaborn\\_oldcore.py:1119: FutureWarning: use_inf_as_na option is deprecated and will be removed in a future version. Convert inf values to NaN before operating instead.\n",
      "  with pd.option_context('mode.use_inf_as_na', True):\n",
      "C:\\Users\\ronej\\anaconda3\\Lib\\site-packages\\seaborn\\_oldcore.py:1119: FutureWarning: use_inf_as_na option is deprecated and will be removed in a future version. Convert inf values to NaN before operating instead.\n",
      "  with pd.option_context('mode.use_inf_as_na', True):\n",
      "C:\\Users\\ronej\\anaconda3\\Lib\\site-packages\\seaborn\\_oldcore.py:1119: FutureWarning: use_inf_as_na option is deprecated and will be removed in a future version. Convert inf values to NaN before operating instead.\n",
      "  with pd.option_context('mode.use_inf_as_na', True):\n",
      "C:\\Users\\ronej\\anaconda3\\Lib\\site-packages\\seaborn\\_oldcore.py:1119: FutureWarning: use_inf_as_na option is deprecated and will be removed in a future version. Convert inf values to NaN before operating instead.\n",
      "  with pd.option_context('mode.use_inf_as_na', True):\n",
      "C:\\Users\\ronej\\anaconda3\\Lib\\site-packages\\seaborn\\_oldcore.py:1119: FutureWarning: use_inf_as_na option is deprecated and will be removed in a future version. Convert inf values to NaN before operating instead.\n",
      "  with pd.option_context('mode.use_inf_as_na', True):\n",
      "C:\\Users\\ronej\\anaconda3\\Lib\\site-packages\\seaborn\\_oldcore.py:1119: FutureWarning: use_inf_as_na option is deprecated and will be removed in a future version. Convert inf values to NaN before operating instead.\n",
      "  with pd.option_context('mode.use_inf_as_na', True):\n"
     ]
    },
    {
     "data": {
      "text/plain": [
       "<seaborn.axisgrid.FacetGrid at 0x212522b6f10>"
      ]
     },
     "execution_count": 50,
     "metadata": {},
     "output_type": "execute_result"
    },
    {
     "data": {
      "image/png": "[encoded data removed]",
      "text/plain": [
       "<Figure size 900x300 with 3 Axes>"
      ]
     },
     "metadata": {},
     "output_type": "display_data"
    }
   ],
   "source": [
    "gr= sns.FacetGrid(gdp_and_internet_use[gdp_and_internet_use['Country'].isin(Co['Country'].tolist())],col=\"Country\", hue= \"Country\")\n",
    "gr.map_dataframe(sns.lineplot, x=\"Year\", y=\"GDP_Per_Capita\")"
   ]
  },
  {
   "cell_type": "markdown",
   "id": "511fd956",
   "metadata": {},
   "source": [
    "# Q22"
   ]
  },
  {
   "cell_type": "code",
   "execution_count": 51,
   "id": "319b9f7b",
   "metadata": {
    "scrolled": false
   },
   "outputs": [
    {
     "data": {
      "text/html": [
       "<div>\n",
       "<style scoped>\n",
       "    .dataframe tbody tr th:only-of-type {\n",
       "        vertical-align: middle;\n",
       "    }\n",
       "\n",
       "    .dataframe tbody tr th {\n",
       "        vertical-align: top;\n",
       "    }\n",
       "\n",
       "    .dataframe thead th {\n",
       "        text-align: right;\n",
       "    }\n",
       "</style>\n",
       "<table border=\"1\" class=\"dataframe\">\n",
       "  <thead>\n",
       "    <tr style=\"text-align: right;\">\n",
       "      <th></th>\n",
       "      <th>Country</th>\n",
       "      <th>Year</th>\n",
       "      <th>GDP_Per_Capita</th>\n",
       "      <th>Internet_Users_Pct</th>\n",
       "    </tr>\n",
       "  </thead>\n",
       "  <tbody>\n",
       "    <tr>\n",
       "      <th>2993</th>\n",
       "      <td>Iceland</td>\n",
       "      <td>2014</td>\n",
       "      <td>50450.741612</td>\n",
       "      <td>98.16</td>\n",
       "    </tr>\n",
       "    <tr>\n",
       "      <th>687</th>\n",
       "      <td>Bermuda</td>\n",
       "      <td>2014</td>\n",
       "      <td>77361.104881</td>\n",
       "      <td>96.80</td>\n",
       "    </tr>\n",
       "    <tr>\n",
       "      <th>5212</th>\n",
       "      <td>Norway</td>\n",
       "      <td>2014</td>\n",
       "      <td>62838.515727</td>\n",
       "      <td>96.30</td>\n",
       "    </tr>\n",
       "    <tr>\n",
       "      <th>1669</th>\n",
       "      <td>Denmark</td>\n",
       "      <td>2014</td>\n",
       "      <td>52048.335493</td>\n",
       "      <td>95.99</td>\n",
       "    </tr>\n",
       "    <tr>\n",
       "      <th>7665</th>\n",
       "      <td>Andorra</td>\n",
       "      <td>2014</td>\n",
       "      <td>NaN</td>\n",
       "      <td>95.90</td>\n",
       "    </tr>\n",
       "    <tr>\n",
       "      <th>...</th>\n",
       "      <td>...</td>\n",
       "      <td>...</td>\n",
       "      <td>...</td>\n",
       "      <td>...</td>\n",
       "    </tr>\n",
       "    <tr>\n",
       "      <th>7167</th>\n",
       "      <td>Turks and Caicos Islands</td>\n",
       "      <td>2014</td>\n",
       "      <td>24661.145053</td>\n",
       "      <td>NaN</td>\n",
       "    </tr>\n",
       "    <tr>\n",
       "      <th>7179</th>\n",
       "      <td>Tuvalu</td>\n",
       "      <td>2014</td>\n",
       "      <td>3521.328676</td>\n",
       "      <td>NaN</td>\n",
       "    </tr>\n",
       "    <tr>\n",
       "      <th>7377</th>\n",
       "      <td>Upper middle income</td>\n",
       "      <td>2014</td>\n",
       "      <td>14063.487284</td>\n",
       "      <td>NaN</td>\n",
       "    </tr>\n",
       "    <tr>\n",
       "      <th>7542</th>\n",
       "      <td>West Bank and Gaza</td>\n",
       "      <td>2014</td>\n",
       "      <td>5967.073437</td>\n",
       "      <td>NaN</td>\n",
       "    </tr>\n",
       "    <tr>\n",
       "      <th>7571</th>\n",
       "      <td>World</td>\n",
       "      <td>2014</td>\n",
       "      <td>15120.730322</td>\n",
       "      <td>NaN</td>\n",
       "    </tr>\n",
       "  </tbody>\n",
       "</table>\n",
       "<p>281 rows × 4 columns</p>\n",
       "</div>"
      ],
      "text/plain": [
       "                       Country  Year  GDP_Per_Capita  Internet_Users_Pct\n",
       "2993                   Iceland  2014    50450.741612               98.16\n",
       "687                    Bermuda  2014    77361.104881               96.80\n",
       "5212                    Norway  2014    62838.515727               96.30\n",
       "1669                   Denmark  2014    52048.335493               95.99\n",
       "7665                   Andorra  2014             NaN               95.90\n",
       "...                        ...   ...             ...                 ...\n",
       "7167  Turks and Caicos Islands  2014    24661.145053                 NaN\n",
       "7179                    Tuvalu  2014     3521.328676                 NaN\n",
       "7377       Upper middle income  2014    14063.487284                 NaN\n",
       "7542        West Bank and Gaza  2014     5967.073437                 NaN\n",
       "7571                     World  2014    15120.730322                 NaN\n",
       "\n",
       "[281 rows x 4 columns]"
      ]
     },
     "execution_count": 51,
     "metadata": {},
     "output_type": "execute_result"
    }
   ],
   "source": [
    "gdp_and_internet_use_2014= gdp_and_internet_use[(gdp_and_internet_use[\"Year\"]==2014)]\n",
    "gdp_and_internet_use_2014.sort_values(['Internet_Users_Pct'], ascending= False)"
   ]
  },
  {
   "cell_type": "markdown",
   "id": "41eb6ba9",
   "metadata": {},
   "source": [
    "# Q23  "
   ]
  },
  {
   "cell_type": "code",
   "execution_count": 52,
   "id": "a643d125",
   "metadata": {
    "scrolled": false
   },
   "outputs": [
    {
     "data": {
      "text/plain": [
       "<Axes: xlabel='GDP_Per_Capita', ylabel='Internet_Users_Pct'>"
      ]
     },
     "execution_count": 52,
     "metadata": {},
     "output_type": "execute_result"
    },
    {
     "data": {
      "image/png": "[encoded data removed]",
      "text/plain": [
       "<Figure size 640x480 with 1 Axes>"
      ]
     },
     "metadata": {},
     "output_type": "display_data"
    }
   ],
   "source": [
    "\n",
    "sns.regplot(x=gdp_and_internet_use_2014[\"GDP_Per_Capita\"], y=gdp_and_internet_use_2014[\"Internet_Users_Pct\"])\n"
   ]
  },
  {
   "cell_type": "markdown",
   "id": "a4578c58",
   "metadata": {},
   "source": [
    "#### The percentage of internet users increased from the lowest GDP per capita, up to about 65,000 GDP per capita, then the number of internet users dropped then starts to pick up again at over 100,000 GDP per capita"
   ]
  },
  {
   "cell_type": "markdown",
   "id": "dc9589f1",
   "metadata": {},
   "source": [
    "#toplt = gdp_and_internet_use_2014.loc[gdp_and_internet_use_2014['Country']]\n",
    "#plt.plot(toplt['Internet_Users_Pct'], toplt['GDP_Per_Capita'], label=country)"
   ]
  },
  {
   "cell_type": "markdown",
   "id": "2cad6837",
   "metadata": {},
   "source": [
    "# Q24"
   ]
  },
  {
   "cell_type": "code",
   "execution_count": 53,
   "id": "a7ef3d68",
   "metadata": {},
   "outputs": [
    {
     "name": "stderr",
     "output_type": "stream",
     "text": [
      "C:\\Users\\ronej\\AppData\\Local\\Temp\\ipykernel_23272\\3934855166.py:1: SettingWithCopyWarning: \n",
      "A value is trying to be set on a copy of a slice from a DataFrame.\n",
      "Try using .loc[row_indexer,col_indexer] = value instead\n",
      "\n",
      "See the caveats in the documentation: https://pandas.pydata.org/pandas-docs/stable/user_guide/indexing.html#returning-a-view-versus-a-copy\n",
      "  gdp_and_internet_use_2014['GDP_group'] = pd.qcut(gdp_and_internet_use_2014[\"GDP_Per_Capita\"], q= 3, labels=[\"Low\", \"Medium\", \"High\"])\n"
     ]
    }
   ],
   "source": [
    "gdp_and_internet_use_2014['GDP_group'] = pd.qcut(gdp_and_internet_use_2014[\"GDP_Per_Capita\"], q= 3, labels=[\"Low\", \"Medium\", \"High\"])"
   ]
  },
  {
   "cell_type": "code",
   "execution_count": 54,
   "id": "eebc46f2",
   "metadata": {},
   "outputs": [],
   "source": [
    "#pd.qcut(gdp_and_internet_use_2014[\"GDP_Per_Capita\"], q= 3, labels=[\"Low\", \"Medium\", \"High\"])"
   ]
  },
  {
   "cell_type": "code",
   "execution_count": 55,
   "id": "31c5ecce",
   "metadata": {},
   "outputs": [
    {
     "data": {
      "text/html": [
       "<div>\n",
       "<style scoped>\n",
       "    .dataframe tbody tr th:only-of-type {\n",
       "        vertical-align: middle;\n",
       "    }\n",
       "\n",
       "    .dataframe tbody tr th {\n",
       "        vertical-align: top;\n",
       "    }\n",
       "\n",
       "    .dataframe thead th {\n",
       "        text-align: right;\n",
       "    }\n",
       "</style>\n",
       "<table border=\"1\" class=\"dataframe\">\n",
       "  <thead>\n",
       "    <tr style=\"text-align: right;\">\n",
       "      <th></th>\n",
       "      <th>Country</th>\n",
       "      <th>Year</th>\n",
       "      <th>GDP_Per_Capita</th>\n",
       "      <th>Internet_Users_Pct</th>\n",
       "      <th>GDP_group</th>\n",
       "    </tr>\n",
       "  </thead>\n",
       "  <tbody>\n",
       "    <tr>\n",
       "      <th>7</th>\n",
       "      <td>Afghanistan</td>\n",
       "      <td>2014</td>\n",
       "      <td>2144.449634</td>\n",
       "      <td>6.39</td>\n",
       "      <td>Low</td>\n",
       "    </tr>\n",
       "    <tr>\n",
       "      <th>28</th>\n",
       "      <td>Africa Eastern and Southern</td>\n",
       "      <td>2014</td>\n",
       "      <td>3642.875373</td>\n",
       "      <td>NaN</td>\n",
       "      <td>Low</td>\n",
       "    </tr>\n",
       "    <tr>\n",
       "      <th>61</th>\n",
       "      <td>Africa Western and Central</td>\n",
       "      <td>2014</td>\n",
       "      <td>4146.994622</td>\n",
       "      <td>NaN</td>\n",
       "      <td>Low</td>\n",
       "    </tr>\n",
       "    <tr>\n",
       "      <th>94</th>\n",
       "      <td>Albania</td>\n",
       "      <td>2014</td>\n",
       "      <td>11586.817446</td>\n",
       "      <td>60.10</td>\n",
       "      <td>Medium</td>\n",
       "    </tr>\n",
       "    <tr>\n",
       "      <th>127</th>\n",
       "      <td>Algeria</td>\n",
       "      <td>2014</td>\n",
       "      <td>11561.259795</td>\n",
       "      <td>18.09</td>\n",
       "      <td>Medium</td>\n",
       "    </tr>\n",
       "    <tr>\n",
       "      <th>...</th>\n",
       "      <td>...</td>\n",
       "      <td>...</td>\n",
       "      <td>...</td>\n",
       "      <td>...</td>\n",
       "      <td>...</td>\n",
       "    </tr>\n",
       "    <tr>\n",
       "      <th>8589</th>\n",
       "      <td>T.F.Y.R. Macedonia</td>\n",
       "      <td>2014</td>\n",
       "      <td>NaN</td>\n",
       "      <td>68.06</td>\n",
       "      <td>NaN</td>\n",
       "    </tr>\n",
       "    <tr>\n",
       "      <th>8647</th>\n",
       "      <td>Turkey</td>\n",
       "      <td>2014</td>\n",
       "      <td>NaN</td>\n",
       "      <td>51.04</td>\n",
       "      <td>NaN</td>\n",
       "    </tr>\n",
       "    <tr>\n",
       "      <th>8670</th>\n",
       "      <td>Venezuela</td>\n",
       "      <td>2014</td>\n",
       "      <td>NaN</td>\n",
       "      <td>57.00</td>\n",
       "      <td>NaN</td>\n",
       "    </tr>\n",
       "    <tr>\n",
       "      <th>8694</th>\n",
       "      <td>Virgin Islands (U.S.)</td>\n",
       "      <td>2014</td>\n",
       "      <td>NaN</td>\n",
       "      <td>50.07</td>\n",
       "      <td>NaN</td>\n",
       "    </tr>\n",
       "    <tr>\n",
       "      <th>8716</th>\n",
       "      <td>Yemen</td>\n",
       "      <td>2014</td>\n",
       "      <td>NaN</td>\n",
       "      <td>22.55</td>\n",
       "      <td>NaN</td>\n",
       "    </tr>\n",
       "  </tbody>\n",
       "</table>\n",
       "<p>281 rows × 5 columns</p>\n",
       "</div>"
      ],
      "text/plain": [
       "                          Country  Year  GDP_Per_Capita  Internet_Users_Pct  \\\n",
       "7                     Afghanistan  2014     2144.449634                6.39   \n",
       "28    Africa Eastern and Southern  2014     3642.875373                 NaN   \n",
       "61     Africa Western and Central  2014     4146.994622                 NaN   \n",
       "94                        Albania  2014    11586.817446               60.10   \n",
       "127                       Algeria  2014    11561.259795               18.09   \n",
       "...                           ...   ...             ...                 ...   \n",
       "8589           T.F.Y.R. Macedonia  2014             NaN               68.06   \n",
       "8647                       Turkey  2014             NaN               51.04   \n",
       "8670                    Venezuela  2014             NaN               57.00   \n",
       "8694        Virgin Islands (U.S.)  2014             NaN               50.07   \n",
       "8716                        Yemen  2014             NaN               22.55   \n",
       "\n",
       "     GDP_group  \n",
       "7          Low  \n",
       "28         Low  \n",
       "61         Low  \n",
       "94      Medium  \n",
       "127     Medium  \n",
       "...        ...  \n",
       "8589       NaN  \n",
       "8647       NaN  \n",
       "8670       NaN  \n",
       "8694       NaN  \n",
       "8716       NaN  \n",
       "\n",
       "[281 rows x 5 columns]"
      ]
     },
     "execution_count": 55,
     "metadata": {},
     "output_type": "execute_result"
    }
   ],
   "source": [
    "gdp_and_internet_use_2014"
   ]
  },
  {
   "cell_type": "code",
   "execution_count": null,
   "id": "de273bf7",
   "metadata": {},
   "outputs": [],
   "source": []
  }
 ],
 "metadata": {
  "kernelspec": {
   "display_name": "Python 3 (ipykernel)",
   "language": "python",
   "name": "python3"
  },
  "language_info": {
   "codemirror_mode": {
    "name": "ipython",
    "version": 3
   },
   "file_extension": ".py",
   "mimetype": "text/x-python",
   "name": "python",
   "nbconvert_exporter": "python",
   "pygments_lexer": "ipython3",
   "version": "3.11.7"
  }
 },
 "nbformat": 4,
 "nbformat_minor": 5
}
