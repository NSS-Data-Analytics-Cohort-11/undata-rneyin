{
 "cells": [
  {
   "cell_type": "code",
   "execution_count": 1,
   "id": "50818b6f-08c5-469c-86b3-1dc174acad0a",
   "metadata": {},
   "outputs": [],
   "source": [
    "import pandas as pd\n",
    "import numpy as np\n",
    "import matplotlib.pyplot as plt\n",
    "import seaborn as sns"
   ]
  },
  {
   "cell_type": "code",
   "execution_count": 2,
   "id": "b978f4f1-4a10-447f-9a22-304ccb1366dd",
   "metadata": {},
   "outputs": [],
   "source": [
    "#read in orginal dataframe\n",
    "gdp_df = pd.read_csv('../data/gdp_percapita.csv.csv')"
   ]
  },
  {
   "cell_type": "markdown",
   "id": "cb9ee44e-7383-4b22-b521-fcdd22275119",
   "metadata": {},
   "source": [
    "# NEED TO EDIT/CLEAN INTERNET DATA"
   ]
  },
  {
   "cell_type": "markdown",
   "id": "74089696-0929-4d54-8cd3-a9fc33e8004e",
   "metadata": {},
   "source": [
    "# Q4"
   ]
  },
  {
   "cell_type": "code",
   "execution_count": 3,
   "id": "3ace083d-4c97-4bfe-9ee1-965bcae70005",
   "metadata": {},
   "outputs": [
    {
     "data": {
      "text/html": [
       "<div>\n",
       "<style scoped>\n",
       "    .dataframe tbody tr th:only-of-type {\n",
       "        vertical-align: middle;\n",
       "    }\n",
       "\n",
       "    .dataframe tbody tr th {\n",
       "        vertical-align: top;\n",
       "    }\n",
       "\n",
       "    .dataframe thead th {\n",
       "        text-align: right;\n",
       "    }\n",
       "</style>\n",
       "<table border=\"1\" class=\"dataframe\">\n",
       "  <thead>\n",
       "    <tr style=\"text-align: right;\">\n",
       "      <th></th>\n",
       "      <th>Country or Area</th>\n",
       "      <th>Year</th>\n",
       "      <th>Value</th>\n",
       "      <th>Value Footnotes</th>\n",
       "    </tr>\n",
       "  </thead>\n",
       "  <tbody>\n",
       "    <tr>\n",
       "      <th>0</th>\n",
       "      <td>Afghanistan</td>\n",
       "      <td>2021</td>\n",
       "      <td>1517.016266</td>\n",
       "      <td>NaN</td>\n",
       "    </tr>\n",
       "    <tr>\n",
       "      <th>1</th>\n",
       "      <td>Afghanistan</td>\n",
       "      <td>2020</td>\n",
       "      <td>1968.341002</td>\n",
       "      <td>NaN</td>\n",
       "    </tr>\n",
       "    <tr>\n",
       "      <th>2</th>\n",
       "      <td>Afghanistan</td>\n",
       "      <td>2019</td>\n",
       "      <td>2079.921861</td>\n",
       "      <td>NaN</td>\n",
       "    </tr>\n",
       "    <tr>\n",
       "      <th>3</th>\n",
       "      <td>Afghanistan</td>\n",
       "      <td>2018</td>\n",
       "      <td>2060.698973</td>\n",
       "      <td>NaN</td>\n",
       "    </tr>\n",
       "    <tr>\n",
       "      <th>4</th>\n",
       "      <td>Afghanistan</td>\n",
       "      <td>2017</td>\n",
       "      <td>2096.093111</td>\n",
       "      <td>NaN</td>\n",
       "    </tr>\n",
       "  </tbody>\n",
       "</table>\n",
       "</div>"
      ],
      "text/plain": [
       "  Country or Area  Year        Value  Value Footnotes\n",
       "0     Afghanistan  2021  1517.016266              NaN\n",
       "1     Afghanistan  2020  1968.341002              NaN\n",
       "2     Afghanistan  2019  2079.921861              NaN\n",
       "3     Afghanistan  2018  2060.698973              NaN\n",
       "4     Afghanistan  2017  2096.093111              NaN"
      ]
     },
     "execution_count": 3,
     "metadata": {},
     "output_type": "execute_result"
    }
   ],
   "source": [
    "#looking at top 5 rows of the dataframe(df)\n",
    "gdp_df.head()"
   ]
  },
  {
   "cell_type": "code",
   "execution_count": 4,
   "id": "3fae83e0-9671-4161-b317-edd46993dea9",
   "metadata": {},
   "outputs": [
    {
     "data": {
      "text/html": [
       "<div>\n",
       "<style scoped>\n",
       "    .dataframe tbody tr th:only-of-type {\n",
       "        vertical-align: middle;\n",
       "    }\n",
       "\n",
       "    .dataframe tbody tr th {\n",
       "        vertical-align: top;\n",
       "    }\n",
       "\n",
       "    .dataframe thead th {\n",
       "        text-align: right;\n",
       "    }\n",
       "</style>\n",
       "<table border=\"1\" class=\"dataframe\">\n",
       "  <thead>\n",
       "    <tr style=\"text-align: right;\">\n",
       "      <th></th>\n",
       "      <th>Country or Area</th>\n",
       "      <th>Year</th>\n",
       "      <th>Value</th>\n",
       "      <th>Value Footnotes</th>\n",
       "    </tr>\n",
       "  </thead>\n",
       "  <tbody>\n",
       "    <tr>\n",
       "      <th>7657</th>\n",
       "      <td>Zimbabwe</td>\n",
       "      <td>1994</td>\n",
       "      <td>2670.106615</td>\n",
       "      <td>NaN</td>\n",
       "    </tr>\n",
       "    <tr>\n",
       "      <th>7658</th>\n",
       "      <td>Zimbabwe</td>\n",
       "      <td>1993</td>\n",
       "      <td>2458.783255</td>\n",
       "      <td>NaN</td>\n",
       "    </tr>\n",
       "    <tr>\n",
       "      <th>7659</th>\n",
       "      <td>Zimbabwe</td>\n",
       "      <td>1992</td>\n",
       "      <td>2468.278257</td>\n",
       "      <td>NaN</td>\n",
       "    </tr>\n",
       "    <tr>\n",
       "      <th>7660</th>\n",
       "      <td>Zimbabwe</td>\n",
       "      <td>1991</td>\n",
       "      <td>2781.787843</td>\n",
       "      <td>NaN</td>\n",
       "    </tr>\n",
       "    <tr>\n",
       "      <th>7661</th>\n",
       "      <td>Zimbabwe</td>\n",
       "      <td>1990</td>\n",
       "      <td>2704.757299</td>\n",
       "      <td>NaN</td>\n",
       "    </tr>\n",
       "  </tbody>\n",
       "</table>\n",
       "</div>"
      ],
      "text/plain": [
       "     Country or Area  Year        Value  Value Footnotes\n",
       "7657        Zimbabwe  1994  2670.106615              NaN\n",
       "7658        Zimbabwe  1993  2458.783255              NaN\n",
       "7659        Zimbabwe  1992  2468.278257              NaN\n",
       "7660        Zimbabwe  1991  2781.787843              NaN\n",
       "7661        Zimbabwe  1990  2704.757299              NaN"
      ]
     },
     "execution_count": 4,
     "metadata": {},
     "output_type": "execute_result"
    }
   ],
   "source": [
    "#looking at bottom 5 rows of the df\n",
    "gdp_df.tail()"
   ]
  },
  {
   "cell_type": "markdown",
   "id": "c367dfd2-d60e-43b8-b707-32e97c213084",
   "metadata": {},
   "source": [
    "# Q5"
   ]
  },
  {
   "cell_type": "code",
   "execution_count": 5,
   "id": "4cf82ba7-94cf-4b3b-a59c-f0153a8fc3e6",
   "metadata": {},
   "outputs": [
    {
     "name": "stdout",
     "output_type": "stream",
     "text": [
      "<class 'pandas.core.frame.DataFrame'>\n",
      "RangeIndex: 7662 entries, 0 to 7661\n",
      "Data columns (total 4 columns):\n",
      " #   Column           Non-Null Count  Dtype  \n",
      "---  ------           --------------  -----  \n",
      " 0   Country or Area  7662 non-null   object \n",
      " 1   Year             7662 non-null   int64  \n",
      " 2   Value            7662 non-null   float64\n",
      " 3   Value Footnotes  0 non-null      float64\n",
      "dtypes: float64(2), int64(1), object(1)\n",
      "memory usage: 239.6+ KB\n"
     ]
    }
   ],
   "source": [
    "gdp_df.info()"
   ]
  },
  {
   "cell_type": "markdown",
   "id": "ea573337-bc17-41e7-9b7e-261e993338b9",
   "metadata": {},
   "source": [
    "# Answer : 4 columns, 7662 rows; data types are country - object; year - int; value and value footnotes - float"
   ]
  },
  {
   "cell_type": "markdown",
   "id": "72e0ed20-f2aa-4570-8f4b-11e29b88d2b6",
   "metadata": {},
   "source": [
    "# Q6"
   ]
  },
  {
   "cell_type": "code",
   "execution_count": 6,
   "id": "c8bc08ff-371e-4050-83ae-8b4d4b9b6826",
   "metadata": {},
   "outputs": [],
   "source": [
    "#drop column with null values\n",
    "gdp_df = gdp_df.drop(columns=['Value Footnotes'])"
   ]
  },
  {
   "cell_type": "code",
   "execution_count": 7,
   "id": "96486205-f7df-4fa0-a0d7-a48476112918",
   "metadata": {},
   "outputs": [
    {
     "name": "stdout",
     "output_type": "stream",
     "text": [
      "<class 'pandas.core.frame.DataFrame'>\n",
      "RangeIndex: 7662 entries, 0 to 7661\n",
      "Data columns (total 3 columns):\n",
      " #   Column           Non-Null Count  Dtype  \n",
      "---  ------           --------------  -----  \n",
      " 0   Country or Area  7662 non-null   object \n",
      " 1   Year             7662 non-null   int64  \n",
      " 2   Value            7662 non-null   float64\n",
      "dtypes: float64(1), int64(1), object(1)\n",
      "memory usage: 179.7+ KB\n"
     ]
    }
   ],
   "source": [
    "gdp_df.info()"
   ]
  },
  {
   "cell_type": "code",
   "execution_count": 8,
   "id": "d10321f3-cc00-4b5a-94f4-8c246510b8dd",
   "metadata": {},
   "outputs": [],
   "source": [
    "#rename columns\n",
    "gdp_fn = gdp_df.rename(columns={'Country or Area': 'Country', 'Value': 'GDP_Per_Capita'})"
   ]
  },
  {
   "cell_type": "markdown",
   "id": "c7f37852-2883-457b-b560-82180529f014",
   "metadata": {},
   "source": [
    "# Q7"
   ]
  },
  {
   "cell_type": "code",
   "execution_count": 9,
   "id": "9f884a0d-6262-4698-a554-f96b8f758631",
   "metadata": {},
   "outputs": [
    {
     "name": "stdout",
     "output_type": "stream",
     "text": [
      "                                  Country or Area  Counts\n",
      "0    Least developed countries: UN classification      33\n",
      "1                      Middle East & North Africa      33\n",
      "2         Middle East & North Africa (IDA & IBRD)      33\n",
      "3                                   Middle income      33\n",
      "4                                        Mongolia      33\n",
      "..                                            ...     ...\n",
      "237                                        Kosovo      15\n",
      "238                     Sint Maarten (Dutch part)      14\n",
      "239                      Turks and Caicos Islands      12\n",
      "240                                       Somalia      10\n",
      "241                                      Djibouti      10\n",
      "\n",
      "[242 rows x 2 columns]\n",
      "                                   Country or Area  Counts\n",
      "192                                         France      33\n",
      "193                                          Gabon      33\n",
      "194                                        Albania      33\n",
      "195                          Europe & Central Asia      33\n",
      "196                                        Georgia      33\n",
      "197                                        Finland      33\n",
      "198  Europe & Central Asia (excluding high income)      33\n",
      "199                                          Ghana      33\n",
      "200                                      Euro area      33\n",
      "201                                        Germany      33\n",
      "202                                        Hungary      32\n",
      "203                                        Lebanon      32\n",
      "204                                          Aruba      32\n",
      "205                                          Tonga      32\n",
      "206                                         Bhutan      32\n",
      "207                                Slovak Republic      31\n",
      "208                                         Kuwait      31\n",
      "209                                   Turkmenistan      31\n",
      "210                                       Cambodia      30\n",
      "211                             West Bank and Gaza      29\n",
      "212                         Bosnia and Herzegovina      29\n",
      "213                                         Latvia      28\n",
      "214                                         Israel      28\n",
      "215                                        Estonia      28\n",
      "216                                         Serbia      28\n",
      "217                                      Lithuania      28\n",
      "218                                        Iceland      28\n",
      "219                                        Moldova      28\n",
      "220                                       Maldives      28\n",
      "221                                        Croatia      28\n",
      "222                                       Slovenia      28\n",
      "223                                   Small states      26\n",
      "224                                     Montenegro      26\n",
      "225                                     San Marino      25\n",
      "226                                          Libya      24\n",
      "227                                    Timor-Leste      23\n",
      "228                                        Liberia      23\n",
      "229                             Other small states      23\n",
      "230                                          Qatar      23\n",
      "231                                          Palau      22\n",
      "232                                       CuraÃ§ao      22\n",
      "233                        SÃ£o TomÃ© and Principe      22\n",
      "234                                    Afghanistan      20\n",
      "235                                          Nauru      19\n",
      "236                                 Cayman Islands      16\n",
      "237                                         Kosovo      15\n",
      "238                      Sint Maarten (Dutch part)      14\n",
      "239                       Turks and Caicos Islands      12\n",
      "240                                        Somalia      10\n",
      "241                                       Djibouti      10\n"
     ]
    }
   ],
   "source": [
    "#count each year data was collected\n",
    "count_of_countries= gdp_df['Country or Area'].value_counts().reset_index(name='Counts')\n",
    "print(count_of_countries)\n",
    "print(count_of_countries.tail(50))"
   ]
  },
  {
   "cell_type": "code",
   "execution_count": 10,
   "id": "7c5005f6-9ef3-4756-878c-3201ae203b7b",
   "metadata": {},
   "outputs": [
    {
     "name": "stdout",
     "output_type": "stream",
     "text": [
      "Country or Area    40\n",
      "Counts             40\n",
      "dtype: int64\n",
      "Country or Area    202\n",
      "Counts             202\n",
      "dtype: int64\n",
      "               Country or Area  Counts\n",
      "202                    Hungary      32\n",
      "203                    Lebanon      32\n",
      "204                      Aruba      32\n",
      "205                      Tonga      32\n",
      "206                     Bhutan      32\n",
      "207            Slovak Republic      31\n",
      "208                     Kuwait      31\n",
      "209               Turkmenistan      31\n",
      "210                   Cambodia      30\n",
      "211         West Bank and Gaza      29\n",
      "212     Bosnia and Herzegovina      29\n",
      "213                     Latvia      28\n",
      "214                     Israel      28\n",
      "215                    Estonia      28\n",
      "216                     Serbia      28\n",
      "217                  Lithuania      28\n",
      "218                    Iceland      28\n",
      "219                    Moldova      28\n",
      "220                   Maldives      28\n",
      "221                    Croatia      28\n",
      "222                   Slovenia      28\n",
      "223               Small states      26\n",
      "224                 Montenegro      26\n",
      "225                 San Marino      25\n",
      "226                      Libya      24\n",
      "227                Timor-Leste      23\n",
      "228                    Liberia      23\n",
      "229         Other small states      23\n",
      "230                      Qatar      23\n",
      "231                      Palau      22\n",
      "232                   CuraÃ§ao      22\n",
      "233    SÃ£o TomÃ© and Principe      22\n",
      "234                Afghanistan      20\n",
      "235                      Nauru      19\n",
      "236             Cayman Islands      16\n",
      "237                     Kosovo      15\n",
      "238  Sint Maarten (Dutch part)      14\n",
      "239   Turks and Caicos Islands      12\n",
      "240                    Somalia      10\n",
      "241                   Djibouti      10\n"
     ]
    }
   ],
   "source": [
    "#all_years: counts countries not missing data\n",
    "all_years=count_of_countries[count_of_countries[\"Counts\"]== 33].count()\n",
    "\n",
    "#missing:counts countries with missing data\n",
    "missing= count_of_countries[count_of_countries[\"Counts\"]< 33].count()\n",
    "\n",
    "#missing_names: lists countries with missing data\n",
    "missing_names= count_of_countries[count_of_countries[\"Counts\"]< 33]\n",
    "\n",
    "print(missing)\n",
    "print(all_years)\n",
    "print(missing_names)"
   ]
  },
  {
   "cell_type": "markdown",
   "id": "c8a89e66-cf3c-4277-a2f2-24d4c74be0fa",
   "metadata": {},
   "source": [
    "#Answer: 202 countries have data for all the years"
   ]
  },
  {
   "cell_type": "markdown",
   "id": "08526873-d31a-4f2c-a757-594f397a7ca7",
   "metadata": {},
   "source": [
    "# Q8"
   ]
  },
  {
   "cell_type": "code",
   "execution_count": 11,
   "id": "b480a340-8b71-4c53-acca-7b8b059518c1",
   "metadata": {},
   "outputs": [
    {
     "name": "stdout",
     "output_type": "stream",
     "text": [
      "                  Country or Area  Year         Value\n",
      "1                     Afghanistan  2020   1968.341002\n",
      "22    Africa Eastern and Southern  2020   3455.023119\n",
      "55     Africa Western and Central  2020   3957.933804\n",
      "88                        Albania  2020  13278.369769\n",
      "121                       Algeria  2020  10844.770764\n",
      "...                           ...   ...           ...\n",
      "7503                     Viet Nam  2020  10450.622382\n",
      "7536           West Bank and Gaza  2020   5402.538773\n",
      "7565                        World  2020  16204.169107\n",
      "7598                       Zambia  2020   3183.650773\n",
      "7631                     Zimbabwe  2020   1990.319419\n",
      "\n",
      "[242 rows x 3 columns]\n"
     ]
    }
   ],
   "source": [
    "d2020=gdp_df[gdp_df[\"Year\"]==2020]\n",
    "print(d2020)"
   ]
  },
  {
   "cell_type": "code",
   "execution_count": 12,
   "id": "e8ba5a03-8efb-4629-88e5-aee72cac5d87",
   "metadata": {},
   "outputs": [
    {
     "name": "stderr",
     "output_type": "stream",
     "text": [
      "C:\\Users\\ronej\\anaconda3\\Lib\\site-packages\\seaborn\\_oldcore.py:1119: FutureWarning: use_inf_as_na option is deprecated and will be removed in a future version. Convert inf values to NaN before operating instead.\n",
      "  with pd.option_context('mode.use_inf_as_na', True):\n"
     ]
    },
    {
     "data": {
      "text/plain": [
       "<seaborn.axisgrid.FacetGrid at 0x288f6053490>"
      ]
     },
     "execution_count": 12,
     "metadata": {},
     "output_type": "execute_result"
    },
    {
     "data": {
      "image/png": "[encoded data removed]",
      "text/plain": [
       "<Figure size 500x500 with 1 Axes>"
      ]
     },
     "metadata": {},
     "output_type": "display_data"
    }
   ],
   "source": [
    "#histogram\n",
    "sns.displot(data=d2020[\"Value\"], kde=True)"
   ]
  },
  {
   "cell_type": "code",
   "execution_count": 14,
   "id": "aae04e60-8e6b-406a-9bfa-812bfef2f134",
   "metadata": {},
   "outputs": [
    {
     "data": {
      "text/plain": [
       "(array([111.,  60.,  24.,  19.,  15.,   5.,   4.,   1.,   2.,   1.]),\n",
       " array([   711.35526342,  11815.35121222,  22919.34716101,  34023.3431098 ,\n",
       "         45127.3390586 ,  56231.33500739,  67335.33095619,  78439.32690498,\n",
       "         89543.32285377, 100647.31880257, 111751.31475136]),\n",
       " <BarContainer object of 10 artists>)"
      ]
     },
     "execution_count": 14,
     "metadata": {},
     "output_type": "execute_result"
    },
    {
     "data": {
      "image/png": "[encoded data removed]",
      "text/plain": [
       "<Figure size 640x480 with 1 Axes>"
      ]
     },
     "metadata": {},
     "output_type": "display_data"
    }
   ],
   "source": [
    "#histogram using matplotlib\n",
    "plt.hist(d2020.Value)"
   ]
  },
  {
   "cell_type": "code",
   "execution_count": null,
   "id": "f7c0a3e0-fda1-47f6-bea1-22d54a7eecaf",
   "metadata": {},
   "outputs": [],
   "source": [
    "#density plot\n",
    "sns.kdeplot(d2020['Value'],fill=True)"
   ]
  },
  {
   "cell_type": "code",
   "execution_count": null,
   "id": "fcd46dd1-17d0-41d6-8629-21b984cf12d2",
   "metadata": {},
   "outputs": [],
   "source": [
    "# FIX BOXPLOT AND VIOLIN PLOT"
   ]
  },
  {
   "cell_type": "code",
   "execution_count": null,
   "id": "5c72be20-65d1-491c-b586-043867c69d99",
   "metadata": {},
   "outputs": [],
   "source": [
    "#boxplot\n",
    "sns.boxplot(x=d2020[\"Country or Area\"], y=d2020[\"Value\"])"
   ]
  },
  {
   "cell_type": "code",
   "execution_count": null,
   "id": "1525ac4e-d2af-4713-9bd7-f65f3120b08f",
   "metadata": {},
   "outputs": [],
   "source": []
  },
  {
   "cell_type": "code",
   "execution_count": null,
   "id": "b6fe10a4-c224-4f44-8aa0-eba19443a033",
   "metadata": {},
   "outputs": [],
   "source": [
    "#violin plot of 2020 GDP per capita\n",
    "sns.violinplot(x=d2020[\"Country or Area\"], y=d2020[\"Value\"])"
   ]
  },
  {
   "cell_type": "markdown",
   "id": "1c92e739-ec1a-4a92-8a34-c45539b14d50",
   "metadata": {},
   "source": [
    "# Q9"
   ]
  },
  {
   "cell_type": "code",
   "execution_count": null,
   "id": "f7db94ef-9ce3-4e23-a6d5-a9a134e5b421",
   "metadata": {},
   "outputs": [],
   "source": [
    "#median GDP per capita value in 2020\n",
    "med_gdp_2020= gdp_df[gdp_df[\"Year\"]==2020][\"Value\"].median()\n",
    "print(med_gdp_2020)"
   ]
  },
  {
   "cell_type": "markdown",
   "id": "29bc379c-01b8-413d-913c-1d51bd2a8770",
   "metadata": {},
   "source": [
    "# Q10"
   ]
  },
  {
   "cell_type": "code",
   "execution_count": 21,
   "id": "4c88de1f-3c3f-4448-8ce5-bb7717248372",
   "metadata": {},
   "outputs": [
    {
     "name": "stdout",
     "output_type": "stream",
     "text": [
      "                          Country  Year  GDP_Per_Capita\n",
      "1                     Afghanistan  2020     1968.341002\n",
      "11                    Afghanistan  2010     2026.163818\n",
      "22    Africa Eastern and Southern  2020     3455.023119\n",
      "32    Africa Eastern and Southern  2010     3513.315920\n",
      "42    Africa Eastern and Southern  2000     2897.140841\n",
      "...                           ...   ...             ...\n",
      "7628                       Zambia  1990     2290.039226\n",
      "7631                     Zimbabwe  2020     1990.319419\n",
      "7641                     Zimbabwe  2010     1799.540233\n",
      "7651                     Zimbabwe  2000     2750.601236\n",
      "7661                     Zimbabwe  1990     2704.757299\n",
      "\n",
      "[921 rows x 3 columns]\n"
     ]
    }
   ],
   "source": [
    "#subsetting data to only include the years 1990, 2000, 2010, and 2020 \n",
    "years=[1990,2000,2010,2020]\n",
    "gdp_decades=gdp_fn[gdp_fn[\"Year\"].isin(years)]\n",
    "print(gdp_decades)"
   ]
  },
  {
   "cell_type": "code",
   "execution_count": null,
   "id": "220fc63a-eaef-4655-97a3-90ff1f4302a1",
   "metadata": {},
   "outputs": [],
   "source": [
    "#box plot\n"
   ]
  },
  {
   "cell_type": "code",
   "execution_count": 34,
   "id": "25bd7792-b8d0-49ff-a5a4-078811b5af17",
   "metadata": {},
   "outputs": [
    {
     "data": {
      "text/plain": [
       "<BarContainer object of 921 artists>"
      ]
     },
     "execution_count": 34,
     "metadata": {},
     "output_type": "execute_result"
    },
    {
     "data": {
      "image/png": "[encoded data removed]",
      "text/plain": [
       "<Figure size 640x480 with 1 Axes>"
      ]
     },
     "metadata": {},
     "output_type": "display_data"
    }
   ],
   "source": [
    "#bar plot\n",
    "plt.bar(gdp_decades.Year,gdp_decades.GDP_Per_Capita)\n",
    "\n"
   ]
  },
  {
   "cell_type": "code",
   "execution_count": null,
   "id": "e148ca9a-8ee6-4f41-932e-bd2e07413e62",
   "metadata": {},
   "outputs": [],
   "source": [
    "#scatterplot"
   ]
  },
  {
   "cell_type": "code",
   "execution_count": null,
   "id": "4d9f9df6-891e-414a-86a6-84f0aed1c3da",
   "metadata": {},
   "outputs": [],
   "source": [
    "#scratteplot with trendline"
   ]
  },
  {
   "cell_type": "code",
   "execution_count": null,
   "id": "93f04baa-bf7d-480a-a936-4890f8c6ceed",
   "metadata": {},
   "outputs": [],
   "source": []
  },
  {
   "cell_type": "code",
   "execution_count": null,
   "id": "c8ed692f-fedb-4440-b1c1-21adf9566bf7",
   "metadata": {},
   "outputs": [],
   "source": []
  },
  {
   "cell_type": "markdown",
   "id": "6909be91-10a5-4198-a314-9fdabc2fa13d",
   "metadata": {},
   "source": [
    "# Q 12 "
   ]
  },
  {
   "cell_type": "code",
   "execution_count": 50,
   "id": "1ad92c32-503b-43b5-bbda-bb8a0197e511",
   "metadata": {},
   "outputs": [
    {
     "data": {
      "text/html": [
       "<div>\n",
       "<style scoped>\n",
       "    .dataframe tbody tr th:only-of-type {\n",
       "        vertical-align: middle;\n",
       "    }\n",
       "\n",
       "    .dataframe tbody tr th {\n",
       "        vertical-align: top;\n",
       "    }\n",
       "\n",
       "    .dataframe thead th {\n",
       "        text-align: right;\n",
       "    }\n",
       "</style>\n",
       "<table border=\"1\" class=\"dataframe\">\n",
       "  <thead>\n",
       "    <tr style=\"text-align: right;\">\n",
       "      <th></th>\n",
       "      <th>Country</th>\n",
       "      <th>Year</th>\n",
       "      <th>GDP_Per_Capita</th>\n",
       "    </tr>\n",
       "  </thead>\n",
       "  <tbody>\n",
       "    <tr>\n",
       "      <th>4148</th>\n",
       "      <td>Luxembourg</td>\n",
       "      <td>2020</td>\n",
       "      <td>111751.314751</td>\n",
       "    </tr>\n",
       "  </tbody>\n",
       "</table>\n",
       "</div>"
      ],
      "text/plain": [
       "         Country  Year  GDP_Per_Capita\n",
       "4148  Luxembourg  2020   111751.314751"
      ]
     },
     "execution_count": 50,
     "metadata": {},
     "output_type": "execute_result"
    }
   ],
   "source": [
    "# add country name\n",
    "\n",
    "#max GDP per capita value in 2020\n",
    "max_gdp_2020= gdp_fn[gdp_fn[\"Year\"]==2020]\n",
    "max_gdp_2020.sort_values(by =['GDP_Per_Capita'],ascending=False).head(1)\n"
   ]
  },
  {
   "cell_type": "markdown",
   "id": "b7406447-0615-4c15-b0a4-7746248ac68d",
   "metadata": {},
   "source": [
    "# Q 13"
   ]
  },
  {
   "cell_type": "code",
   "execution_count": 58,
   "id": "b115b971-4234-4c91-a76a-eb619809caf0",
   "metadata": {},
   "outputs": [
    {
     "data": {
      "text/html": [
       "<div>\n",
       "<style scoped>\n",
       "    .dataframe tbody tr th:only-of-type {\n",
       "        vertical-align: middle;\n",
       "    }\n",
       "\n",
       "    .dataframe tbody tr th {\n",
       "        vertical-align: top;\n",
       "    }\n",
       "\n",
       "    .dataframe thead th {\n",
       "        text-align: right;\n",
       "    }\n",
       "</style>\n",
       "<table border=\"1\" class=\"dataframe\">\n",
       "  <thead>\n",
       "    <tr style=\"text-align: right;\">\n",
       "      <th></th>\n",
       "      <th>Country</th>\n",
       "      <th>Year</th>\n",
       "      <th>GDP_Per_Capita</th>\n",
       "    </tr>\n",
       "  </thead>\n",
       "  <tbody>\n",
       "    <tr>\n",
       "      <th>973</th>\n",
       "      <td>Burundi</td>\n",
       "      <td>2020</td>\n",
       "      <td>711.355263</td>\n",
       "    </tr>\n",
       "    <tr>\n",
       "      <th>1217</th>\n",
       "      <td>Central African Republic</td>\n",
       "      <td>2020</td>\n",
       "      <td>847.765012</td>\n",
       "    </tr>\n",
       "    <tr>\n",
       "      <th>1630</th>\n",
       "      <td>Dem. Rep. Congo</td>\n",
       "      <td>2020</td>\n",
       "      <td>1044.071214</td>\n",
       "    </tr>\n",
       "    <tr>\n",
       "      <th>6273</th>\n",
       "      <td>Somalia</td>\n",
       "      <td>2020</td>\n",
       "      <td>1127.418534</td>\n",
       "    </tr>\n",
       "    <tr>\n",
       "      <th>5074</th>\n",
       "      <td>Niger</td>\n",
       "      <td>2020</td>\n",
       "      <td>1214.546556</td>\n",
       "    </tr>\n",
       "    <tr>\n",
       "      <th>...</th>\n",
       "      <td>...</td>\n",
       "      <td>...</td>\n",
       "      <td>...</td>\n",
       "    </tr>\n",
       "    <tr>\n",
       "      <th>681</th>\n",
       "      <td>Bermuda</td>\n",
       "      <td>2020</td>\n",
       "      <td>76117.804744</td>\n",
       "    </tr>\n",
       "    <tr>\n",
       "      <th>5746</th>\n",
       "      <td>Qatar</td>\n",
       "      <td>2020</td>\n",
       "      <td>89019.069857</td>\n",
       "    </tr>\n",
       "    <tr>\n",
       "      <th>3279</th>\n",
       "      <td>Ireland</td>\n",
       "      <td>2020</td>\n",
       "      <td>91356.855054</td>\n",
       "    </tr>\n",
       "    <tr>\n",
       "      <th>6108</th>\n",
       "      <td>Singapore</td>\n",
       "      <td>2020</td>\n",
       "      <td>94910.101431</td>\n",
       "    </tr>\n",
       "    <tr>\n",
       "      <th>4148</th>\n",
       "      <td>Luxembourg</td>\n",
       "      <td>2020</td>\n",
       "      <td>111751.314751</td>\n",
       "    </tr>\n",
       "  </tbody>\n",
       "</table>\n",
       "<p>242 rows × 3 columns</p>\n",
       "</div>"
      ],
      "text/plain": [
       "                       Country  Year  GDP_Per_Capita\n",
       "973                    Burundi  2020      711.355263\n",
       "1217  Central African Republic  2020      847.765012\n",
       "1630           Dem. Rep. Congo  2020     1044.071214\n",
       "6273                   Somalia  2020     1127.418534\n",
       "5074                     Niger  2020     1214.546556\n",
       "...                        ...   ...             ...\n",
       "681                    Bermuda  2020    76117.804744\n",
       "5746                     Qatar  2020    89019.069857\n",
       "3279                   Ireland  2020    91356.855054\n",
       "6108                 Singapore  2020    94910.101431\n",
       "4148                Luxembourg  2020   111751.314751\n",
       "\n",
       "[242 rows x 3 columns]"
      ]
     },
     "execution_count": 58,
     "metadata": {},
     "output_type": "execute_result"
    }
   ],
   "source": [
    "# add country name\n",
    "\n",
    "#min GDP per capita value in 2020\n",
    "min_gdp_2020= gdp_fn[gdp_fn[\"Year\"]==2020]\n",
    "min_gdp_2020.sort_values(by =['GDP_Per_Capita'],ascending=True)"
   ]
  },
  {
   "cell_type": "markdown",
   "id": "82bc87c5-d5c4-483b-91cc-e0502b1d75a9",
   "metadata": {},
   "source": [
    "# Bonus - IN PROGRESS"
   ]
  },
  {
   "cell_type": "code",
   "execution_count": 57,
   "id": "d7d4b0a5-5f8b-4212-80e4-10862196bd52",
   "metadata": {},
   "outputs": [
    {
     "data": {
      "text/html": [
       "<div>\n",
       "<style scoped>\n",
       "    .dataframe tbody tr th:only-of-type {\n",
       "        vertical-align: middle;\n",
       "    }\n",
       "\n",
       "    .dataframe tbody tr th {\n",
       "        vertical-align: top;\n",
       "    }\n",
       "\n",
       "    .dataframe thead th {\n",
       "        text-align: right;\n",
       "    }\n",
       "</style>\n",
       "<table border=\"1\" class=\"dataframe\">\n",
       "  <thead>\n",
       "    <tr style=\"text-align: right;\">\n",
       "      <th></th>\n",
       "      <th>Country</th>\n",
       "      <th>Year</th>\n",
       "      <th>GDP_Per_Capita</th>\n",
       "    </tr>\n",
       "  </thead>\n",
       "  <tbody>\n",
       "    <tr>\n",
       "      <th>4854</th>\n",
       "      <td>Mozambique</td>\n",
       "      <td>1990</td>\n",
       "      <td>460.123697</td>\n",
       "    </tr>\n",
       "    <tr>\n",
       "      <th>4887</th>\n",
       "      <td>Myanmar</td>\n",
       "      <td>1990</td>\n",
       "      <td>581.613311</td>\n",
       "    </tr>\n",
       "    <tr>\n",
       "      <th>2127</th>\n",
       "      <td>Ethiopia</td>\n",
       "      <td>1990</td>\n",
       "      <td>767.170419</td>\n",
       "    </tr>\n",
       "    <tr>\n",
       "      <th>7236</th>\n",
       "      <td>Uganda</td>\n",
       "      <td>1990</td>\n",
       "      <td>901.660809</td>\n",
       "    </tr>\n",
       "    <tr>\n",
       "      <th>5865</th>\n",
       "      <td>Rwanda</td>\n",
       "      <td>1990</td>\n",
       "      <td>933.013443</td>\n",
       "    </tr>\n",
       "    <tr>\n",
       "      <th>...</th>\n",
       "      <td>...</td>\n",
       "      <td>...</td>\n",
       "      <td>...</td>\n",
       "    </tr>\n",
       "    <tr>\n",
       "      <th>6775</th>\n",
       "      <td>Switzerland</td>\n",
       "      <td>1990</td>\n",
       "      <td>56232.026080</td>\n",
       "    </tr>\n",
       "    <tr>\n",
       "      <th>711</th>\n",
       "      <td>Bermuda</td>\n",
       "      <td>1990</td>\n",
       "      <td>65961.406278</td>\n",
       "    </tr>\n",
       "    <tr>\n",
       "      <th>904</th>\n",
       "      <td>Brunei</td>\n",
       "      <td>1990</td>\n",
       "      <td>70358.724094</td>\n",
       "    </tr>\n",
       "    <tr>\n",
       "      <th>4178</th>\n",
       "      <td>Luxembourg</td>\n",
       "      <td>1990</td>\n",
       "      <td>70860.819124</td>\n",
       "    </tr>\n",
       "    <tr>\n",
       "      <th>7302</th>\n",
       "      <td>United Arab Emirates</td>\n",
       "      <td>1990</td>\n",
       "      <td>105893.626059</td>\n",
       "    </tr>\n",
       "  </tbody>\n",
       "</table>\n",
       "<p>207 rows × 3 columns</p>\n",
       "</div>"
      ],
      "text/plain": [
       "                   Country  Year  GDP_Per_Capita\n",
       "4854            Mozambique  1990      460.123697\n",
       "4887               Myanmar  1990      581.613311\n",
       "2127              Ethiopia  1990      767.170419\n",
       "7236                Uganda  1990      901.660809\n",
       "5865                Rwanda  1990      933.013443\n",
       "...                    ...   ...             ...\n",
       "6775           Switzerland  1990    56232.026080\n",
       "711                Bermuda  1990    65961.406278\n",
       "904                 Brunei  1990    70358.724094\n",
       "4178            Luxembourg  1990    70860.819124\n",
       "7302  United Arab Emirates  1990   105893.626059\n",
       "\n",
       "[207 rows x 3 columns]"
      ]
     },
     "execution_count": 57,
     "metadata": {},
     "output_type": "execute_result"
    }
   ],
   "source": [
    "min_gdp_1990= gdp_fn[gdp_fn[\"Year\"]==1990]\n",
    "min_gdp_1990.sort_values(by =['GDP_Per_Capita'],ascending=True)\n"
   ]
  },
  {
   "cell_type": "markdown",
   "id": "532916bb-c38f-4ab9-bcd1-8b63c403b475",
   "metadata": {},
   "source": [
    "# how to merge 2 data frames: mergedStuff = pd.merge(df1, df2, on=['Name'], how='inner')"
   ]
  },
  {
   "cell_type": "markdown",
   "id": "a518213c-9baf-4b46-a944-408b72d0ff6e",
   "metadata": {},
   "source": [
    "#not right\n",
    "less= min_gdp_1990[\"GDP_Per_Capita\"]> min_gdp_2020[\"GDP_Per_Capita\"]"
   ]
  },
  {
   "cell_type": "code",
   "execution_count": 71,
   "id": "e38c95ee-6b44-4f56-a274-0f2aed9535de",
   "metadata": {},
   "outputs": [],
   "source": [
    "#inner join\n",
    "mergedy = min_gdp_1990.merge(min_gdp_2020, on = ['Country'], how='inner')\n"
   ]
  },
  {
   "cell_type": "code",
   "execution_count": 73,
   "id": "5dedc173-db87-4790-899c-b3df48644eed",
   "metadata": {},
   "outputs": [
    {
     "data": {
      "text/html": [
       "<div>\n",
       "<style scoped>\n",
       "    .dataframe tbody tr th:only-of-type {\n",
       "        vertical-align: middle;\n",
       "    }\n",
       "\n",
       "    .dataframe tbody tr th {\n",
       "        vertical-align: top;\n",
       "    }\n",
       "\n",
       "    .dataframe thead th {\n",
       "        text-align: right;\n",
       "    }\n",
       "</style>\n",
       "<table border=\"1\" class=\"dataframe\">\n",
       "  <thead>\n",
       "    <tr style=\"text-align: right;\">\n",
       "      <th></th>\n",
       "      <th>Country</th>\n",
       "      <th>Year_x</th>\n",
       "      <th>GDP_Per_Capita_x</th>\n",
       "      <th>Year_y</th>\n",
       "      <th>GDP_Per_Capita_y</th>\n",
       "    </tr>\n",
       "  </thead>\n",
       "  <tbody>\n",
       "    <tr>\n",
       "      <th>15</th>\n",
       "      <td>Barbados</td>\n",
       "      <td>1990</td>\n",
       "      <td>14097.395550</td>\n",
       "      <td>2020</td>\n",
       "      <td>13805.777541</td>\n",
       "    </tr>\n",
       "    <tr>\n",
       "      <th>25</th>\n",
       "      <td>Brunei</td>\n",
       "      <td>1990</td>\n",
       "      <td>70358.724094</td>\n",
       "      <td>2020</td>\n",
       "      <td>61603.550804</td>\n",
       "    </tr>\n",
       "    <tr>\n",
       "      <th>28</th>\n",
       "      <td>Burundi</td>\n",
       "      <td>1990</td>\n",
       "      <td>1175.155086</td>\n",
       "      <td>2020</td>\n",
       "      <td>711.355263</td>\n",
       "    </tr>\n",
       "    <tr>\n",
       "      <th>34</th>\n",
       "      <td>Central African Republic</td>\n",
       "      <td>1990</td>\n",
       "      <td>1200.613390</td>\n",
       "      <td>2020</td>\n",
       "      <td>847.765012</td>\n",
       "    </tr>\n",
       "    <tr>\n",
       "      <th>41</th>\n",
       "      <td>Congo</td>\n",
       "      <td>1990</td>\n",
       "      <td>5007.319245</td>\n",
       "      <td>2020</td>\n",
       "      <td>3384.654335</td>\n",
       "    </tr>\n",
       "    <tr>\n",
       "      <th>45</th>\n",
       "      <td>Dem. Rep. Congo</td>\n",
       "      <td>1990</td>\n",
       "      <td>1750.169739</td>\n",
       "      <td>2020</td>\n",
       "      <td>1044.071214</td>\n",
       "    </tr>\n",
       "    <tr>\n",
       "      <th>66</th>\n",
       "      <td>Fragile and conflict affected situations</td>\n",
       "      <td>1990</td>\n",
       "      <td>4864.814075</td>\n",
       "      <td>2020</td>\n",
       "      <td>4357.621312</td>\n",
       "    </tr>\n",
       "    <tr>\n",
       "      <th>68</th>\n",
       "      <td>Gabon</td>\n",
       "      <td>1990</td>\n",
       "      <td>17559.006114</td>\n",
       "      <td>2020</td>\n",
       "      <td>13903.288955</td>\n",
       "    </tr>\n",
       "    <tr>\n",
       "      <th>76</th>\n",
       "      <td>Guinea-Bissau</td>\n",
       "      <td>1990</td>\n",
       "      <td>1998.173206</td>\n",
       "      <td>2020</td>\n",
       "      <td>1803.630591</td>\n",
       "    </tr>\n",
       "    <tr>\n",
       "      <th>78</th>\n",
       "      <td>Haiti</td>\n",
       "      <td>1990</td>\n",
       "      <td>3612.815105</td>\n",
       "      <td>2020</td>\n",
       "      <td>2970.462845</td>\n",
       "    </tr>\n",
       "    <tr>\n",
       "      <th>99</th>\n",
       "      <td>Kiribati</td>\n",
       "      <td>1990</td>\n",
       "      <td>2045.272278</td>\n",
       "      <td>2020</td>\n",
       "      <td>1897.061922</td>\n",
       "    </tr>\n",
       "    <tr>\n",
       "      <th>101</th>\n",
       "      <td>Kyrgyz Republic</td>\n",
       "      <td>1990</td>\n",
       "      <td>5158.317569</td>\n",
       "      <td>2020</td>\n",
       "      <td>4726.196559</td>\n",
       "    </tr>\n",
       "    <tr>\n",
       "      <th>115</th>\n",
       "      <td>Madagascar</td>\n",
       "      <td>1990</td>\n",
       "      <td>1808.743539</td>\n",
       "      <td>2020</td>\n",
       "      <td>1436.206950</td>\n",
       "    </tr>\n",
       "    <tr>\n",
       "      <th>183</th>\n",
       "      <td>Tajikistan</td>\n",
       "      <td>1990</td>\n",
       "      <td>3990.869035</td>\n",
       "      <td>2020</td>\n",
       "      <td>3651.942660</td>\n",
       "    </tr>\n",
       "    <tr>\n",
       "      <th>186</th>\n",
       "      <td>The Bahamas</td>\n",
       "      <td>1990</td>\n",
       "      <td>35674.455631</td>\n",
       "      <td>2020</td>\n",
       "      <td>25780.414176</td>\n",
       "    </tr>\n",
       "    <tr>\n",
       "      <th>187</th>\n",
       "      <td>The Gambia</td>\n",
       "      <td>1990</td>\n",
       "      <td>2080.158085</td>\n",
       "      <td>2020</td>\n",
       "      <td>2042.620289</td>\n",
       "    </tr>\n",
       "    <tr>\n",
       "      <th>195</th>\n",
       "      <td>Ukraine</td>\n",
       "      <td>1990</td>\n",
       "      <td>16428.480469</td>\n",
       "      <td>2020</td>\n",
       "      <td>12407.790039</td>\n",
       "    </tr>\n",
       "    <tr>\n",
       "      <th>196</th>\n",
       "      <td>United Arab Emirates</td>\n",
       "      <td>1990</td>\n",
       "      <td>105893.626059</td>\n",
       "      <td>2020</td>\n",
       "      <td>67668.286641</td>\n",
       "    </tr>\n",
       "    <tr>\n",
       "      <th>206</th>\n",
       "      <td>Zimbabwe</td>\n",
       "      <td>1990</td>\n",
       "      <td>2704.757299</td>\n",
       "      <td>2020</td>\n",
       "      <td>1990.319419</td>\n",
       "    </tr>\n",
       "  </tbody>\n",
       "</table>\n",
       "</div>"
      ],
      "text/plain": [
       "                                      Country  Year_x  GDP_Per_Capita_x  \\\n",
       "15                                   Barbados    1990      14097.395550   \n",
       "25                                     Brunei    1990      70358.724094   \n",
       "28                                    Burundi    1990       1175.155086   \n",
       "34                   Central African Republic    1990       1200.613390   \n",
       "41                                      Congo    1990       5007.319245   \n",
       "45                            Dem. Rep. Congo    1990       1750.169739   \n",
       "66   Fragile and conflict affected situations    1990       4864.814075   \n",
       "68                                      Gabon    1990      17559.006114   \n",
       "76                              Guinea-Bissau    1990       1998.173206   \n",
       "78                                      Haiti    1990       3612.815105   \n",
       "99                                   Kiribati    1990       2045.272278   \n",
       "101                           Kyrgyz Republic    1990       5158.317569   \n",
       "115                                Madagascar    1990       1808.743539   \n",
       "183                                Tajikistan    1990       3990.869035   \n",
       "186                               The Bahamas    1990      35674.455631   \n",
       "187                                The Gambia    1990       2080.158085   \n",
       "195                                   Ukraine    1990      16428.480469   \n",
       "196                      United Arab Emirates    1990     105893.626059   \n",
       "206                                  Zimbabwe    1990       2704.757299   \n",
       "\n",
       "     Year_y  GDP_Per_Capita_y  \n",
       "15     2020      13805.777541  \n",
       "25     2020      61603.550804  \n",
       "28     2020        711.355263  \n",
       "34     2020        847.765012  \n",
       "41     2020       3384.654335  \n",
       "45     2020       1044.071214  \n",
       "66     2020       4357.621312  \n",
       "68     2020      13903.288955  \n",
       "76     2020       1803.630591  \n",
       "78     2020       2970.462845  \n",
       "99     2020       1897.061922  \n",
       "101    2020       4726.196559  \n",
       "115    2020       1436.206950  \n",
       "183    2020       3651.942660  \n",
       "186    2020      25780.414176  \n",
       "187    2020       2042.620289  \n",
       "195    2020      12407.790039  \n",
       "196    2020      67668.286641  \n",
       "206    2020       1990.319419  "
      ]
     },
     "execution_count": 73,
     "metadata": {},
     "output_type": "execute_result"
    }
   ],
   "source": [
    "mergedy[mergedy['GDP_Per_Capita_x']> mergedy['GDP_Per_Capita_y']]"
   ]
  },
  {
   "cell_type": "markdown",
   "id": "da05b127-e8ea-47b4-b918-9da6712ce6bf",
   "metadata": {},
   "source": [
    "# Q14"
   ]
  },
  {
   "cell_type": "code",
   "execution_count": 68,
   "id": "a370a5a9-5db3-46d4-a75c-17a8431a373f",
   "metadata": {},
   "outputs": [
    {
     "data": {
      "text/html": [
       "<div>\n",
       "<style scoped>\n",
       "    .dataframe tbody tr th:only-of-type {\n",
       "        vertical-align: middle;\n",
       "    }\n",
       "\n",
       "    .dataframe tbody tr th {\n",
       "        vertical-align: top;\n",
       "    }\n",
       "\n",
       "    .dataframe thead th {\n",
       "        text-align: right;\n",
       "    }\n",
       "</style>\n",
       "<table border=\"1\" class=\"dataframe\">\n",
       "  <thead>\n",
       "    <tr style=\"text-align: right;\">\n",
       "      <th></th>\n",
       "      <th>Country or Area</th>\n",
       "      <th>Year</th>\n",
       "      <th>Value</th>\n",
       "      <th>Value Footnotes</th>\n",
       "    </tr>\n",
       "  </thead>\n",
       "  <tbody>\n",
       "    <tr>\n",
       "      <th>0</th>\n",
       "      <td>Afghanistan</td>\n",
       "      <td>2014</td>\n",
       "      <td>6.390000</td>\n",
       "      <td>NaN</td>\n",
       "    </tr>\n",
       "    <tr>\n",
       "      <th>1</th>\n",
       "      <td>Afghanistan</td>\n",
       "      <td>2013</td>\n",
       "      <td>5.900000</td>\n",
       "      <td>NaN</td>\n",
       "    </tr>\n",
       "    <tr>\n",
       "      <th>2</th>\n",
       "      <td>Afghanistan</td>\n",
       "      <td>2012</td>\n",
       "      <td>5.454545</td>\n",
       "      <td>NaN</td>\n",
       "    </tr>\n",
       "    <tr>\n",
       "      <th>3</th>\n",
       "      <td>Afghanistan</td>\n",
       "      <td>2011</td>\n",
       "      <td>5.000000</td>\n",
       "      <td>NaN</td>\n",
       "    </tr>\n",
       "    <tr>\n",
       "      <th>4</th>\n",
       "      <td>Afghanistan</td>\n",
       "      <td>2010</td>\n",
       "      <td>4.000000</td>\n",
       "      <td>NaN</td>\n",
       "    </tr>\n",
       "    <tr>\n",
       "      <th>...</th>\n",
       "      <td>...</td>\n",
       "      <td>...</td>\n",
       "      <td>...</td>\n",
       "      <td>...</td>\n",
       "    </tr>\n",
       "    <tr>\n",
       "      <th>4490</th>\n",
       "      <td>Zimbabwe</td>\n",
       "      <td>1997</td>\n",
       "      <td>0.033080</td>\n",
       "      <td>NaN</td>\n",
       "    </tr>\n",
       "    <tr>\n",
       "      <th>4491</th>\n",
       "      <td>Zimbabwe</td>\n",
       "      <td>1996</td>\n",
       "      <td>0.016790</td>\n",
       "      <td>NaN</td>\n",
       "    </tr>\n",
       "    <tr>\n",
       "      <th>4492</th>\n",
       "      <td>Zimbabwe</td>\n",
       "      <td>1995</td>\n",
       "      <td>0.007684</td>\n",
       "      <td>NaN</td>\n",
       "    </tr>\n",
       "    <tr>\n",
       "      <th>4493</th>\n",
       "      <td>Zimbabwe</td>\n",
       "      <td>1994</td>\n",
       "      <td>0.001739</td>\n",
       "      <td>NaN</td>\n",
       "    </tr>\n",
       "    <tr>\n",
       "      <th>4494</th>\n",
       "      <td>Zimbabwe</td>\n",
       "      <td>1990</td>\n",
       "      <td>0.000000</td>\n",
       "      <td>NaN</td>\n",
       "    </tr>\n",
       "  </tbody>\n",
       "</table>\n",
       "<p>4495 rows × 4 columns</p>\n",
       "</div>"
      ],
      "text/plain": [
       "     Country or Area  Year     Value  Value Footnotes\n",
       "0        Afghanistan  2014  6.390000              NaN\n",
       "1        Afghanistan  2013  5.900000              NaN\n",
       "2        Afghanistan  2012  5.454545              NaN\n",
       "3        Afghanistan  2011  5.000000              NaN\n",
       "4        Afghanistan  2010  4.000000              NaN\n",
       "...              ...   ...       ...              ...\n",
       "4490        Zimbabwe  1997  0.033080              NaN\n",
       "4491        Zimbabwe  1996  0.016790              NaN\n",
       "4492        Zimbabwe  1995  0.007684              NaN\n",
       "4493        Zimbabwe  1994  0.001739              NaN\n",
       "4494        Zimbabwe  1990  0.000000              NaN\n",
       "\n",
       "[4495 rows x 4 columns]"
      ]
     },
     "execution_count": 68,
     "metadata": {},
     "output_type": "execute_result"
    }
   ],
   "source": [
    "#read in internet dataframe footnotes at the bottom of the csv file needed to be ignored by limiting what row it reads until\n",
    "internet_df = pd.read_csv('../data/internet_use.csv.csv',nrows=4495)\n",
    "internet_df"
   ]
  },
  {
   "cell_type": "code",
   "execution_count": null,
   "id": "9320287e-f1ed-4f52-9343-b42b920b12e2",
   "metadata": {},
   "outputs": [],
   "source": []
  },
  {
   "cell_type": "code",
   "execution_count": null,
   "id": "26bb5289-aa68-4a64-b231-ced3b9940eff",
   "metadata": {},
   "outputs": [],
   "source": []
  },
  {
   "cell_type": "code",
   "execution_count": null,
   "id": "228e8533-9896-488c-92e8-f3e55d187c35",
   "metadata": {},
   "outputs": [],
   "source": []
  },
  {
   "cell_type": "code",
   "execution_count": null,
   "id": "d4634c2f-444a-4b5e-9931-31b5719afbc5",
   "metadata": {},
   "outputs": [],
   "source": []
  },
  {
   "cell_type": "code",
   "execution_count": null,
   "id": "2c9b8679-6159-411f-a6e3-602335665445",
   "metadata": {},
   "outputs": [],
   "source": []
  },
  {
   "cell_type": "code",
   "execution_count": null,
   "id": "7b4b0936-f539-484e-9171-5b2246bc55af",
   "metadata": {},
   "outputs": [],
   "source": []
  },
  {
   "cell_type": "code",
   "execution_count": null,
   "id": "e0e7d342-e322-445b-8554-eba03e4bd55e",
   "metadata": {},
   "outputs": [],
   "source": []
  }
 ],
 "metadata": {
  "kernelspec": {
   "display_name": "Python 3 (ipykernel)",
   "language": "python",
   "name": "python3"
  },
  "language_info": {
   "codemirror_mode": {
    "name": "ipython",
    "version": 3
   },
   "file_extension": ".py",
   "mimetype": "text/x-python",
   "name": "python",
   "nbconvert_exporter": "python",
   "pygments_lexer": "ipython3",
   "version": "3.11.7"
  }
 },
 "nbformat": 4,
 "nbformat_minor": 5
}
