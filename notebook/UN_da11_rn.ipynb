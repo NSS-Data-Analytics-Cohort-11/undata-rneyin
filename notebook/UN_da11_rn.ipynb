{
 "cells": [
  {
   "cell_type": "code",
   "execution_count": 1,
   "id": "50818b6f-08c5-469c-86b3-1dc174acad0a",
   "metadata": {},
   "outputs": [],
   "source": [
    "import pandas as pd\n",
    "import numpy as np\n",
    "import matplotlib.pyplot as plt\n",
    "import seaborn as sns"
   ]
  },
  {
   "cell_type": "code",
   "execution_count": 2,
   "id": "b978f4f1-4a10-447f-9a22-304ccb1366dd",
   "metadata": {},
   "outputs": [],
   "source": [
    "#read in orginal dataframe\n",
    "gdp_df = pd.read_csv('../data/gdp_percapita.csv.csv')"
   ]
  },
  {
   "cell_type": "markdown",
   "id": "cb9ee44e-7383-4b22-b521-fcdd22275119",
   "metadata": {},
   "source": [
    "# NEED TO EDIT/CLEAN INTERNET DATA"
   ]
  },
  {
   "cell_type": "markdown",
   "id": "74089696-0929-4d54-8cd3-a9fc33e8004e",
   "metadata": {},
   "source": [
    "# Q4"
   ]
  },
  {
   "cell_type": "code",
   "execution_count": 3,
   "id": "3ace083d-4c97-4bfe-9ee1-965bcae70005",
   "metadata": {},
   "outputs": [
    {
     "data": {
      "text/html": [
       "<div>\n",
       "<style scoped>\n",
       "    .dataframe tbody tr th:only-of-type {\n",
       "        vertical-align: middle;\n",
       "    }\n",
       "\n",
       "    .dataframe tbody tr th {\n",
       "        vertical-align: top;\n",
       "    }\n",
       "\n",
       "    .dataframe thead th {\n",
       "        text-align: right;\n",
       "    }\n",
       "</style>\n",
       "<table border=\"1\" class=\"dataframe\">\n",
       "  <thead>\n",
       "    <tr style=\"text-align: right;\">\n",
       "      <th></th>\n",
       "      <th>Country or Area</th>\n",
       "      <th>Year</th>\n",
       "      <th>Value</th>\n",
       "      <th>Value Footnotes</th>\n",
       "    </tr>\n",
       "  </thead>\n",
       "  <tbody>\n",
       "    <tr>\n",
       "      <th>0</th>\n",
       "      <td>Afghanistan</td>\n",
       "      <td>2021</td>\n",
       "      <td>1517.016266</td>\n",
       "      <td>NaN</td>\n",
       "    </tr>\n",
       "    <tr>\n",
       "      <th>1</th>\n",
       "      <td>Afghanistan</td>\n",
       "      <td>2020</td>\n",
       "      <td>1968.341002</td>\n",
       "      <td>NaN</td>\n",
       "    </tr>\n",
       "    <tr>\n",
       "      <th>2</th>\n",
       "      <td>Afghanistan</td>\n",
       "      <td>2019</td>\n",
       "      <td>2079.921861</td>\n",
       "      <td>NaN</td>\n",
       "    </tr>\n",
       "    <tr>\n",
       "      <th>3</th>\n",
       "      <td>Afghanistan</td>\n",
       "      <td>2018</td>\n",
       "      <td>2060.698973</td>\n",
       "      <td>NaN</td>\n",
       "    </tr>\n",
       "    <tr>\n",
       "      <th>4</th>\n",
       "      <td>Afghanistan</td>\n",
       "      <td>2017</td>\n",
       "      <td>2096.093111</td>\n",
       "      <td>NaN</td>\n",
       "    </tr>\n",
       "  </tbody>\n",
       "</table>\n",
       "</div>"
      ],
      "text/plain": [
       "  Country or Area  Year        Value  Value Footnotes\n",
       "0     Afghanistan  2021  1517.016266              NaN\n",
       "1     Afghanistan  2020  1968.341002              NaN\n",
       "2     Afghanistan  2019  2079.921861              NaN\n",
       "3     Afghanistan  2018  2060.698973              NaN\n",
       "4     Afghanistan  2017  2096.093111              NaN"
      ]
     },
     "execution_count": 3,
     "metadata": {},
     "output_type": "execute_result"
    }
   ],
   "source": [
    "#looking at top 5 rows of the dataframe(df)\n",
    "gdp_df.head()"
   ]
  },
  {
   "cell_type": "code",
   "execution_count": 4,
   "id": "3fae83e0-9671-4161-b317-edd46993dea9",
   "metadata": {},
   "outputs": [
    {
     "data": {
      "text/html": [
       "<div>\n",
       "<style scoped>\n",
       "    .dataframe tbody tr th:only-of-type {\n",
       "        vertical-align: middle;\n",
       "    }\n",
       "\n",
       "    .dataframe tbody tr th {\n",
       "        vertical-align: top;\n",
       "    }\n",
       "\n",
       "    .dataframe thead th {\n",
       "        text-align: right;\n",
       "    }\n",
       "</style>\n",
       "<table border=\"1\" class=\"dataframe\">\n",
       "  <thead>\n",
       "    <tr style=\"text-align: right;\">\n",
       "      <th></th>\n",
       "      <th>Country or Area</th>\n",
       "      <th>Year</th>\n",
       "      <th>Value</th>\n",
       "      <th>Value Footnotes</th>\n",
       "    </tr>\n",
       "  </thead>\n",
       "  <tbody>\n",
       "    <tr>\n",
       "      <th>7657</th>\n",
       "      <td>Zimbabwe</td>\n",
       "      <td>1994</td>\n",
       "      <td>2670.106615</td>\n",
       "      <td>NaN</td>\n",
       "    </tr>\n",
       "    <tr>\n",
       "      <th>7658</th>\n",
       "      <td>Zimbabwe</td>\n",
       "      <td>1993</td>\n",
       "      <td>2458.783255</td>\n",
       "      <td>NaN</td>\n",
       "    </tr>\n",
       "    <tr>\n",
       "      <th>7659</th>\n",
       "      <td>Zimbabwe</td>\n",
       "      <td>1992</td>\n",
       "      <td>2468.278257</td>\n",
       "      <td>NaN</td>\n",
       "    </tr>\n",
       "    <tr>\n",
       "      <th>7660</th>\n",
       "      <td>Zimbabwe</td>\n",
       "      <td>1991</td>\n",
       "      <td>2781.787843</td>\n",
       "      <td>NaN</td>\n",
       "    </tr>\n",
       "    <tr>\n",
       "      <th>7661</th>\n",
       "      <td>Zimbabwe</td>\n",
       "      <td>1990</td>\n",
       "      <td>2704.757299</td>\n",
       "      <td>NaN</td>\n",
       "    </tr>\n",
       "  </tbody>\n",
       "</table>\n",
       "</div>"
      ],
      "text/plain": [
       "     Country or Area  Year        Value  Value Footnotes\n",
       "7657        Zimbabwe  1994  2670.106615              NaN\n",
       "7658        Zimbabwe  1993  2458.783255              NaN\n",
       "7659        Zimbabwe  1992  2468.278257              NaN\n",
       "7660        Zimbabwe  1991  2781.787843              NaN\n",
       "7661        Zimbabwe  1990  2704.757299              NaN"
      ]
     },
     "execution_count": 4,
     "metadata": {},
     "output_type": "execute_result"
    }
   ],
   "source": [
    "#looking at bottom 5 rows of the df\n",
    "gdp_df.tail()"
   ]
  },
  {
   "cell_type": "markdown",
   "id": "c367dfd2-d60e-43b8-b707-32e97c213084",
   "metadata": {},
   "source": [
    "# Q5"
   ]
  },
  {
   "cell_type": "code",
   "execution_count": 5,
   "id": "4cf82ba7-94cf-4b3b-a59c-f0153a8fc3e6",
   "metadata": {},
   "outputs": [
    {
     "name": "stdout",
     "output_type": "stream",
     "text": [
      "<class 'pandas.core.frame.DataFrame'>\n",
      "RangeIndex: 7662 entries, 0 to 7661\n",
      "Data columns (total 4 columns):\n",
      " #   Column           Non-Null Count  Dtype  \n",
      "---  ------           --------------  -----  \n",
      " 0   Country or Area  7662 non-null   object \n",
      " 1   Year             7662 non-null   int64  \n",
      " 2   Value            7662 non-null   float64\n",
      " 3   Value Footnotes  0 non-null      float64\n",
      "dtypes: float64(2), int64(1), object(1)\n",
      "memory usage: 239.6+ KB\n"
     ]
    }
   ],
   "source": [
    "gdp_df.info()"
   ]
  },
  {
   "cell_type": "markdown",
   "id": "ea573337-bc17-41e7-9b7e-261e993338b9",
   "metadata": {},
   "source": [
    "# Answer : 4 columns, 7662 rows; data types are country - object; year - int; value and value footnotes - float"
   ]
  },
  {
   "cell_type": "markdown",
   "id": "72e0ed20-f2aa-4570-8f4b-11e29b88d2b6",
   "metadata": {},
   "source": [
    "# Q6"
   ]
  },
  {
   "cell_type": "code",
   "execution_count": 6,
   "id": "c8bc08ff-371e-4050-83ae-8b4d4b9b6826",
   "metadata": {},
   "outputs": [],
   "source": [
    "#drop column with null values\n",
    "gdp_df = gdp_df.drop(columns=['Value Footnotes'])"
   ]
  },
  {
   "cell_type": "code",
   "execution_count": 7,
   "id": "96486205-f7df-4fa0-a0d7-a48476112918",
   "metadata": {},
   "outputs": [
    {
     "name": "stdout",
     "output_type": "stream",
     "text": [
      "<class 'pandas.core.frame.DataFrame'>\n",
      "RangeIndex: 7662 entries, 0 to 7661\n",
      "Data columns (total 3 columns):\n",
      " #   Column           Non-Null Count  Dtype  \n",
      "---  ------           --------------  -----  \n",
      " 0   Country or Area  7662 non-null   object \n",
      " 1   Year             7662 non-null   int64  \n",
      " 2   Value            7662 non-null   float64\n",
      "dtypes: float64(1), int64(1), object(1)\n",
      "memory usage: 179.7+ KB\n"
     ]
    }
   ],
   "source": [
    "gdp_df.info()"
   ]
  },
  {
   "cell_type": "code",
   "execution_count": 8,
   "id": "d10321f3-cc00-4b5a-94f4-8c246510b8dd",
   "metadata": {},
   "outputs": [],
   "source": [
    "#rename columns\n",
    "gdp_fn = gdp_df.rename(columns={'Country or Area': 'Country', 'Value': 'GDP_Per_Capita'})"
   ]
  },
  {
   "cell_type": "markdown",
   "id": "c7f37852-2883-457b-b560-82180529f014",
   "metadata": {},
   "source": [
    "# Q7"
   ]
  },
  {
   "cell_type": "code",
   "execution_count": 9,
   "id": "9f884a0d-6262-4698-a554-f96b8f758631",
   "metadata": {},
   "outputs": [
    {
     "name": "stdout",
     "output_type": "stream",
     "text": [
      "                                  Country or Area  Counts\n",
      "0    Least developed countries: UN classification      33\n",
      "1                      Middle East & North Africa      33\n",
      "2         Middle East & North Africa (IDA & IBRD)      33\n",
      "3                                   Middle income      33\n",
      "4                                        Mongolia      33\n",
      "..                                            ...     ...\n",
      "237                                        Kosovo      15\n",
      "238                     Sint Maarten (Dutch part)      14\n",
      "239                      Turks and Caicos Islands      12\n",
      "240                                       Somalia      10\n",
      "241                                      Djibouti      10\n",
      "\n",
      "[242 rows x 2 columns]\n",
      "                                   Country or Area  Counts\n",
      "192                                         France      33\n",
      "193                                          Gabon      33\n",
      "194                                        Albania      33\n",
      "195                          Europe & Central Asia      33\n",
      "196                                        Georgia      33\n",
      "197                                        Finland      33\n",
      "198  Europe & Central Asia (excluding high income)      33\n",
      "199                                          Ghana      33\n",
      "200                                      Euro area      33\n",
      "201                                        Germany      33\n",
      "202                                        Hungary      32\n",
      "203                                        Lebanon      32\n",
      "204                                          Aruba      32\n",
      "205                                          Tonga      32\n",
      "206                                         Bhutan      32\n",
      "207                                Slovak Republic      31\n",
      "208                                         Kuwait      31\n",
      "209                                   Turkmenistan      31\n",
      "210                                       Cambodia      30\n",
      "211                             West Bank and Gaza      29\n",
      "212                         Bosnia and Herzegovina      29\n",
      "213                                         Latvia      28\n",
      "214                                         Israel      28\n",
      "215                                        Estonia      28\n",
      "216                                         Serbia      28\n",
      "217                                      Lithuania      28\n",
      "218                                        Iceland      28\n",
      "219                                        Moldova      28\n",
      "220                                       Maldives      28\n",
      "221                                        Croatia      28\n",
      "222                                       Slovenia      28\n",
      "223                                   Small states      26\n",
      "224                                     Montenegro      26\n",
      "225                                     San Marino      25\n",
      "226                                          Libya      24\n",
      "227                                    Timor-Leste      23\n",
      "228                                        Liberia      23\n",
      "229                             Other small states      23\n",
      "230                                          Qatar      23\n",
      "231                                          Palau      22\n",
      "232                                       CuraÃ§ao      22\n",
      "233                        SÃ£o TomÃ© and Principe      22\n",
      "234                                    Afghanistan      20\n",
      "235                                          Nauru      19\n",
      "236                                 Cayman Islands      16\n",
      "237                                         Kosovo      15\n",
      "238                      Sint Maarten (Dutch part)      14\n",
      "239                       Turks and Caicos Islands      12\n",
      "240                                        Somalia      10\n",
      "241                                       Djibouti      10\n"
     ]
    }
   ],
   "source": [
    "#count each year data was collected\n",
    "count_of_countries= gdp_df['Country or Area'].value_counts().reset_index(name='Counts')\n",
    "print(count_of_countries)\n",
    "print(count_of_countries.tail(50))"
   ]
  },
  {
   "cell_type": "code",
   "execution_count": 10,
   "id": "7c5005f6-9ef3-4756-878c-3201ae203b7b",
   "metadata": {},
   "outputs": [
    {
     "name": "stdout",
     "output_type": "stream",
     "text": [
      "Country or Area    40\n",
      "Counts             40\n",
      "dtype: int64\n",
      "Country or Area    202\n",
      "Counts             202\n",
      "dtype: int64\n",
      "               Country or Area  Counts\n",
      "202                    Hungary      32\n",
      "203                    Lebanon      32\n",
      "204                      Aruba      32\n",
      "205                      Tonga      32\n",
      "206                     Bhutan      32\n",
      "207            Slovak Republic      31\n",
      "208                     Kuwait      31\n",
      "209               Turkmenistan      31\n",
      "210                   Cambodia      30\n",
      "211         West Bank and Gaza      29\n",
      "212     Bosnia and Herzegovina      29\n",
      "213                     Latvia      28\n",
      "214                     Israel      28\n",
      "215                    Estonia      28\n",
      "216                     Serbia      28\n",
      "217                  Lithuania      28\n",
      "218                    Iceland      28\n",
      "219                    Moldova      28\n",
      "220                   Maldives      28\n",
      "221                    Croatia      28\n",
      "222                   Slovenia      28\n",
      "223               Small states      26\n",
      "224                 Montenegro      26\n",
      "225                 San Marino      25\n",
      "226                      Libya      24\n",
      "227                Timor-Leste      23\n",
      "228                    Liberia      23\n",
      "229         Other small states      23\n",
      "230                      Qatar      23\n",
      "231                      Palau      22\n",
      "232                   CuraÃ§ao      22\n",
      "233    SÃ£o TomÃ© and Principe      22\n",
      "234                Afghanistan      20\n",
      "235                      Nauru      19\n",
      "236             Cayman Islands      16\n",
      "237                     Kosovo      15\n",
      "238  Sint Maarten (Dutch part)      14\n",
      "239   Turks and Caicos Islands      12\n",
      "240                    Somalia      10\n",
      "241                   Djibouti      10\n"
     ]
    }
   ],
   "source": [
    "#all_years: counts countries not missing data\n",
    "all_years=count_of_countries[count_of_countries[\"Counts\"]== 33].count()\n",
    "\n",
    "#missing:counts countries with missing data\n",
    "missing= count_of_countries[count_of_countries[\"Counts\"]< 33].count()\n",
    "\n",
    "#missing_names: lists countries with missing data\n",
    "missing_names= count_of_countries[count_of_countries[\"Counts\"]< 33]\n",
    "\n",
    "print(missing)\n",
    "print(all_years)\n",
    "print(missing_names)"
   ]
  },
  {
   "cell_type": "markdown",
   "id": "c8a89e66-cf3c-4277-a2f2-24d4c74be0fa",
   "metadata": {},
   "source": [
    "#Answer: 202 countries have data for all the years"
   ]
  },
  {
   "cell_type": "markdown",
   "id": "08526873-d31a-4f2c-a757-594f397a7ca7",
   "metadata": {},
   "source": [
    "# Q8"
   ]
  },
  {
   "cell_type": "code",
   "execution_count": 11,
   "id": "b480a340-8b71-4c53-acca-7b8b059518c1",
   "metadata": {},
   "outputs": [
    {
     "name": "stdout",
     "output_type": "stream",
     "text": [
      "                  Country or Area  Year         Value\n",
      "1                     Afghanistan  2020   1968.341002\n",
      "22    Africa Eastern and Southern  2020   3455.023119\n",
      "55     Africa Western and Central  2020   3957.933804\n",
      "88                        Albania  2020  13278.369769\n",
      "121                       Algeria  2020  10844.770764\n",
      "...                           ...   ...           ...\n",
      "7503                     Viet Nam  2020  10450.622382\n",
      "7536           West Bank and Gaza  2020   5402.538773\n",
      "7565                        World  2020  16204.169107\n",
      "7598                       Zambia  2020   3183.650773\n",
      "7631                     Zimbabwe  2020   1990.319419\n",
      "\n",
      "[242 rows x 3 columns]\n"
     ]
    }
   ],
   "source": [
    "d2020=gdp_df[gdp_df[\"Year\"]==2020]\n",
    "print(d2020)"
   ]
  },
  {
   "cell_type": "code",
   "execution_count": 12,
   "id": "e8ba5a03-8efb-4629-88e5-aee72cac5d87",
   "metadata": {},
   "outputs": [
    {
     "name": "stderr",
     "output_type": "stream",
     "text": [
      "C:\\Users\\ronej\\anaconda3\\Lib\\site-packages\\seaborn\\_oldcore.py:1119: FutureWarning: use_inf_as_na option is deprecated and will be removed in a future version. Convert inf values to NaN before operating instead.\n",
      "  with pd.option_context('mode.use_inf_as_na', True):\n"
     ]
    },
    {
     "data": {
      "text/plain": [
       "<seaborn.axisgrid.FacetGrid at 0x27538bb2390>"
      ]
     },
     "execution_count": 12,
     "metadata": {},
     "output_type": "execute_result"
    },
    {
     "data": {
      "image/png": "[encoded data removed]",
      "text/plain": [
       "<Figure size 500x500 with 1 Axes>"
      ]
     },
     "metadata": {},
     "output_type": "display_data"
    }
   ],
   "source": [
    "#histogram\n",
    "sns.displot(data=d2020[\"Value\"], kde=True)"
   ]
  },
  {
   "cell_type": "code",
   "execution_count": 13,
   "id": "f7c0a3e0-fda1-47f6-bea1-22d54a7eecaf",
   "metadata": {},
   "outputs": [
    {
     "name": "stderr",
     "output_type": "stream",
     "text": [
      "C:\\Users\\ronej\\anaconda3\\Lib\\site-packages\\seaborn\\_oldcore.py:1119: FutureWarning: use_inf_as_na option is deprecated and will be removed in a future version. Convert inf values to NaN before operating instead.\n",
      "  with pd.option_context('mode.use_inf_as_na', True):\n"
     ]
    },
    {
     "data": {
      "text/plain": [
       "<Axes: xlabel='Value', ylabel='Density'>"
      ]
     },
     "execution_count": 13,
     "metadata": {},
     "output_type": "execute_result"
    },
    {
     "data": {
      "image/png": "[encoded data removed]",
      "text/plain": [
       "<Figure size 640x480 with 1 Axes>"
      ]
     },
     "metadata": {},
     "output_type": "display_data"
    }
   ],
   "source": [
    "#density plot\n",
    "sns.kdeplot(d2020['Value'],fill=True)"
   ]
  },
  {
   "cell_type": "code",
   "execution_count": 14,
   "id": "fcd46dd1-17d0-41d6-8629-21b984cf12d2",
   "metadata": {},
   "outputs": [],
   "source": [
    "# FIX BOXPLOT AND VIOLIN PLOT"
   ]
  },
  {
   "cell_type": "code",
   "execution_count": 15,
   "id": "5c72be20-65d1-491c-b586-043867c69d99",
   "metadata": {},
   "outputs": [
    {
     "data": {
      "text/plain": [
       "<Axes: xlabel='Country or Area', ylabel='Value'>"
      ]
     },
     "execution_count": 15,
     "metadata": {},
     "output_type": "execute_result"
    },
    {
     "data": {
      "image/png": "[encoded data removed]",
      "text/plain": [
       "<Figure size 640x480 with 1 Axes>"
      ]
     },
     "metadata": {},
     "output_type": "display_data"
    }
   ],
   "source": [
    "#boxplot\n",
    "sns.boxplot(x=d2020[\"Country or Area\"], y=d2020[\"Value\"])"
   ]
  },
  {
   "cell_type": "code",
   "execution_count": null,
   "id": "1525ac4e-d2af-4713-9bd7-f65f3120b08f",
   "metadata": {},
   "outputs": [],
   "source": []
  },
  {
   "cell_type": "code",
   "execution_count": 16,
   "id": "b6fe10a4-c224-4f44-8aa0-eba19443a033",
   "metadata": {},
   "outputs": [
    {
     "data": {
      "text/plain": [
       "<Axes: xlabel='Country or Area', ylabel='Value'>"
      ]
     },
     "execution_count": 16,
     "metadata": {},
     "output_type": "execute_result"
    },
    {
     "data": {
      "image/png": "[encoded data removed]",
      "text/plain": [
       "<Figure size 640x480 with 1 Axes>"
      ]
     },
     "metadata": {},
     "output_type": "display_data"
    }
   ],
   "source": [
    "#violin plot of 2020 GDP per capita\n",
    "sns.violinplot(x=d2020[\"Country or Area\"], y=d2020[\"Value\"])"
   ]
  },
  {
   "cell_type": "markdown",
   "id": "1c92e739-ec1a-4a92-8a34-c45539b14d50",
   "metadata": {},
   "source": [
    "# Q9"
   ]
  },
  {
   "cell_type": "code",
   "execution_count": 17,
   "id": "f7db94ef-9ce3-4e23-a6d5-a9a134e5b421",
   "metadata": {},
   "outputs": [
    {
     "name": "stdout",
     "output_type": "stream",
     "text": [
      "13357.997573370474\n"
     ]
    }
   ],
   "source": [
    "#median GDP per capita value in 2020\n",
    "med_gdp_2020= gdp_df[gdp_df[\"Year\"]==2020][\"Value\"].median()\n",
    "print(med_gdp_2020)"
   ]
  },
  {
   "cell_type": "code",
   "execution_count": null,
   "id": "e2353cce-d576-492e-b9f1-2f6feb1ab6ea",
   "metadata": {},
   "outputs": [],
   "source": []
  },
  {
   "cell_type": "code",
   "execution_count": null,
   "id": "c8ed692f-fedb-4440-b1c1-21adf9566bf7",
   "metadata": {},
   "outputs": [],
   "source": []
  },
  {
   "cell_type": "markdown",
   "id": "6909be91-10a5-4198-a314-9fdabc2fa13d",
   "metadata": {},
   "source": [
    "# Q 12 NEED COUNTRY NAME"
   ]
  },
  {
   "cell_type": "code",
   "execution_count": 20,
   "id": "1ad92c32-503b-43b5-bbda-bb8a0197e511",
   "metadata": {},
   "outputs": [
    {
     "name": "stdout",
     "output_type": "stream",
     "text": [
      "111751.3147513618\n"
     ]
    }
   ],
   "source": [
    "# add country name\n",
    "\n",
    "#max GDP per capita value in 2020\n",
    "max_gdp_2020= gdp_df[gdp_df[\"Year\"]==2020][\"Value\"].max()\n",
    "print(max_gdp_2020)"
   ]
  },
  {
   "cell_type": "markdown",
   "id": "b7406447-0615-4c15-b0a4-7746248ac68d",
   "metadata": {},
   "source": [
    "# Q 13"
   ]
  },
  {
   "cell_type": "code",
   "execution_count": 22,
   "id": "b115b971-4234-4c91-a76a-eb619809caf0",
   "metadata": {},
   "outputs": [
    {
     "name": "stdout",
     "output_type": "stream",
     "text": [
      "711.355263423169\n"
     ]
    }
   ],
   "source": [
    "# add country name\n",
    "\n",
    "#min GDP per capita value in 2020\n",
    "min_gdp_2020= gdp_df[gdp_df[\"Year\"]==2020][\"Value\"].min()\n",
    "print(min_gdp_2020)"
   ]
  },
  {
   "cell_type": "code",
   "execution_count": null,
   "id": "d7d4b0a5-5f8b-4212-80e4-10862196bd52",
   "metadata": {},
   "outputs": [],
   "source": []
  }
 ],
 "metadata": {
  "kernelspec": {
   "display_name": "Python 3 (ipykernel)",
   "language": "python",
   "name": "python3"
  },
  "language_info": {
   "codemirror_mode": {
    "name": "ipython",
    "version": 3
   },
   "file_extension": ".py",
   "mimetype": "text/x-python",
   "name": "python",
   "nbconvert_exporter": "python",
   "pygments_lexer": "ipython3",
   "version": "3.11.7"
  }
 },
 "nbformat": 4,
 "nbformat_minor": 5
}
